{
 "cells": [
  {
   "cell_type": "markdown",
   "id": "4cf1c164",
   "metadata": {},
   "source": [
    "<p style=\"background:#003F7D; color:white; font-size: 2.1em; text-align:center\"> \n",
    "    <br><br><b> Podcast Reviews </b><br><br><br>\n",
    "</p>"
   ]
  },
  {
   "cell_type": "markdown",
   "id": "293caa40",
   "metadata": {},
   "source": [
    "<p style=\"text-align: right;\">Module 2: Data Analysis<br>\n",
    "Sprint 2: Inferential Statistical Analysis<br>\n",
    "Author : Renato Mariano</p>"
   ]
  },
  {
   "cell_type": "markdown",
   "id": "ed391b01",
   "metadata": {},
   "source": [
    "<h1 style=\"color:#003F7D\">Introduction </h1>"
   ]
  },
  {
   "cell_type": "markdown",
   "id": "c5b4f4b7",
   "metadata": {},
   "source": [
    "This project is based on a Podcast Reviews dataset from Kagle. The scraped data is available on https://www.kaggle.com/datasets/thoughtvector/podcastreviews/versions/28.\n",
    "\n",
    "The data consists in 2 million podcast reviews for 100k podcasts.\n",
    "\n",
    "The scope of this project includes:\n",
    "\n",
    "- Perform queries on the data using SQL.\n",
    "- Perform Exploratory Data Analysis (EDA).\n",
    "- Apply statistical inference procedures.\n",
    "- Create Dashbord and Graphs to visualize and present the data."
   ]
  },
  {
   "cell_type": "markdown",
   "id": "34b1fa49",
   "metadata": {},
   "source": [
    "<h2 style=\"color:#003F7D\">Library Imports and Notebook Setup </h2>"
   ]
  },
  {
   "cell_type": "code",
   "execution_count": 1,
   "id": "e4cc9f39",
   "metadata": {},
   "outputs": [],
   "source": [
    "import sqlite3\n",
    "import pandas as pd\n",
    "import numpy as np\n",
    "import matplotlib.pyplot as plt\n",
    "import seaborn as sns\n",
    "from scipy.stats import chi2_contingency"
   ]
  },
  {
   "cell_type": "code",
   "execution_count": 2,
   "id": "c42365a8",
   "metadata": {},
   "outputs": [
    {
     "data": {
      "text/html": [
       "\n",
       "<style>\n",
       ".output_png {\n",
       "    display: table-cell;\n",
       "    text-align: center;\n",
       "    vertical-align: middle;\n",
       "}\n",
       "</style>\n"
      ],
      "text/plain": [
       "<IPython.core.display.HTML object>"
      ]
     },
     "execution_count": 2,
     "metadata": {},
     "output_type": "execute_result"
    }
   ],
   "source": [
    "# Notebook setup\n",
    "import warnings\n",
    "warnings.filterwarnings('ignore')\n",
    "\n",
    "from IPython.core.display import HTML      # center plots in the notebook\n",
    "HTML(\"\"\"\n",
    "<style>\n",
    ".output_png {\n",
    "    display: table-cell;\n",
    "    text-align: center;\n",
    "    vertical-align: middle;\n",
    "}\n",
    "</style>\n",
    "\"\"\")"
   ]
  },
  {
   "cell_type": "code",
   "execution_count": 3,
   "id": "a125560c",
   "metadata": {},
   "outputs": [],
   "source": [
    "def clear_boxplot(ax, plot_title=\"\", plot_xlabel=\"\", plot_ylabel=\"\", legend_visibility=False):\n",
    "    '''Remove unnecessary content from a boxplot / violinplot'''\n",
    "\n",
    "    ax.set(xlabel=plot_xlabel, ylabel=plot_ylabel)\n",
    "    ax.set_title(plot_title, fontsize=14, color='#010048')\n",
    "\n",
    "    ax.tick_params(\n",
    "        axis=\"both\",\n",
    "        which=\"both\",\n",
    "        length=0,\n",
    "    )\n",
    "    \n",
    "    if not legend_visibility:\n",
    "        ax.legend([],frameon=legend_visibility)\n",
    "        \n",
    "    ax.set_xticklabels([])"
   ]
  },
  {
   "cell_type": "code",
   "execution_count": 4,
   "id": "3ad697de",
   "metadata": {},
   "outputs": [],
   "source": [
    "def clear_histplot(ax, plot_title=\"\", plot_xlabel=\"\", plot_ylabel=\"\", legend_visibility=False):\n",
    "\n",
    "    ax.set(xlabel=plot_xlabel, ylabel=plot_ylabel, title=plot_title)\n",
    "    ax.set_title(plot_title, color='#010048', fontsize=14)\n",
    "    ax.tick_params(axis=\"both\", which=\"both\", length=0)  \n",
    "    \n",
    "    if not legend_visibility:\n",
    "        ax.legend([],frameon=legend_visibility)"
   ]
  },
  {
   "cell_type": "markdown",
   "id": "24357143",
   "metadata": {},
   "source": [
    "<h1 style=\"color:#003F7D\">Dataset Overview </h1>"
   ]
  },
  {
   "cell_type": "markdown",
   "id": "4f3c0f9b",
   "metadata": {},
   "source": [
    "**<p style=\"color:#003F7D; font-size: 1.1em\">Tables available in the dataset</p>**"
   ]
  },
  {
   "cell_type": "code",
   "execution_count": 5,
   "id": "63ff0aa9",
   "metadata": {},
   "outputs": [],
   "source": [
    "def select_all_columns(table_name):\n",
    "    '''General query for output of all of the columns of a dataframe in the database'''\n",
    "    query = f\"SELECT * FROM {table_name};\"\n",
    "    return query"
   ]
  },
  {
   "cell_type": "code",
   "execution_count": 6,
   "id": "c53683e3",
   "metadata": {},
   "outputs": [],
   "source": [
    "# Connect to the SQLite database\n",
    "con = sqlite3.connect(\"db_podcast_reviews.sqlite\")\n",
    "\n",
    "# checking the database tables\n",
    "table = pd.read_sql(select_all_columns(\"sqlite_master WHERE type='table'\"), con)"
   ]
  },
  {
   "cell_type": "code",
   "execution_count": 7,
   "id": "22cf8eae",
   "metadata": {},
   "outputs": [
    {
     "data": {
      "text/html": [
       "<div>\n",
       "<style scoped>\n",
       "    .dataframe tbody tr th:only-of-type {\n",
       "        vertical-align: middle;\n",
       "    }\n",
       "\n",
       "    .dataframe tbody tr th {\n",
       "        vertical-align: top;\n",
       "    }\n",
       "\n",
       "    .dataframe thead th {\n",
       "        text-align: right;\n",
       "    }\n",
       "</style>\n",
       "<table border=\"1\" class=\"dataframe\">\n",
       "  <thead>\n",
       "    <tr style=\"text-align: right;\">\n",
       "      <th></th>\n",
       "      <th>type</th>\n",
       "      <th>name</th>\n",
       "      <th>tbl_name</th>\n",
       "      <th>rootpage</th>\n",
       "      <th>sql</th>\n",
       "    </tr>\n",
       "  </thead>\n",
       "  <tbody>\n",
       "    <tr>\n",
       "      <th>0</th>\n",
       "      <td>table</td>\n",
       "      <td>runs</td>\n",
       "      <td>runs</td>\n",
       "      <td>2</td>\n",
       "      <td>CREATE TABLE runs (\\n        run_at text not n...</td>\n",
       "    </tr>\n",
       "    <tr>\n",
       "      <th>1</th>\n",
       "      <td>table</td>\n",
       "      <td>podcasts</td>\n",
       "      <td>podcasts</td>\n",
       "      <td>3</td>\n",
       "      <td>CREATE TABLE podcasts (\\n        podcast_id te...</td>\n",
       "    </tr>\n",
       "    <tr>\n",
       "      <th>2</th>\n",
       "      <td>table</td>\n",
       "      <td>categories</td>\n",
       "      <td>categories</td>\n",
       "      <td>5</td>\n",
       "      <td>CREATE TABLE categories (\\n        podcast_id ...</td>\n",
       "    </tr>\n",
       "    <tr>\n",
       "      <th>3</th>\n",
       "      <td>table</td>\n",
       "      <td>reviews</td>\n",
       "      <td>reviews</td>\n",
       "      <td>7</td>\n",
       "      <td>CREATE TABLE reviews (\\n        podcast_id tex...</td>\n",
       "    </tr>\n",
       "  </tbody>\n",
       "</table>\n",
       "</div>"
      ],
      "text/plain": [
       "    type        name    tbl_name  rootpage  \\\n",
       "0  table        runs        runs         2   \n",
       "1  table    podcasts    podcasts         3   \n",
       "2  table  categories  categories         5   \n",
       "3  table     reviews     reviews         7   \n",
       "\n",
       "                                                 sql  \n",
       "0  CREATE TABLE runs (\\n        run_at text not n...  \n",
       "1  CREATE TABLE podcasts (\\n        podcast_id te...  \n",
       "2  CREATE TABLE categories (\\n        podcast_id ...  \n",
       "3  CREATE TABLE reviews (\\n        podcast_id tex...  "
      ]
     },
     "execution_count": 7,
     "metadata": {},
     "output_type": "execute_result"
    }
   ],
   "source": [
    "table.head()"
   ]
  },
  {
   "cell_type": "markdown",
   "id": "2ef627ae",
   "metadata": {},
   "source": [
    "The database is made out of 4 dataframes, one of them (runs) includes only the date when the author included new reviews to the dataset."
   ]
  },
  {
   "cell_type": "markdown",
   "id": "4f65b1e5",
   "metadata": {},
   "source": [
    "**<p style=\"color:#003F7D; font-size: 1.1em\">Features of the dataset</p>**"
   ]
  },
  {
   "cell_type": "code",
   "execution_count": 8,
   "id": "3d4f378c",
   "metadata": {},
   "outputs": [],
   "source": [
    "podcasts = pd.read_sql(select_all_columns(\"podcasts\"), con)\n",
    "categories = pd.read_sql(select_all_columns(\"categories\"), con)\n",
    "reviews = pd.read_sql(select_all_columns(\"reviews\"), con)\n",
    "\n",
    "# The table \"runs\" will not be part in the evaluation; code left only for showing the DF to reviewer\n",
    "#runs = pd.read_sql(select_all_columns(\"runs\"), con)"
   ]
  },
  {
   "cell_type": "code",
   "execution_count": 9,
   "id": "425f75e9",
   "metadata": {},
   "outputs": [
    {
     "name": "stdout",
     "output_type": "stream",
     "text": [
      "<class 'pandas.core.frame.DataFrame'>\n",
      "RangeIndex: 110024 entries, 0 to 110023\n",
      "Data columns (total 5 columns):\n",
      " #   Column      Non-Null Count   Dtype \n",
      "---  ------      --------------   ----- \n",
      " 0   podcast_id  110024 non-null  object\n",
      " 1   itunes_id   110024 non-null  int64 \n",
      " 2   slug        110024 non-null  object\n",
      " 3   itunes_url  110024 non-null  object\n",
      " 4   title       110024 non-null  object\n",
      "dtypes: int64(1), object(4)\n",
      "memory usage: 4.2+ MB\n"
     ]
    }
   ],
   "source": [
    "podcasts.info()"
   ]
  },
  {
   "cell_type": "markdown",
   "id": "41bb9612",
   "metadata": {},
   "source": [
    "Two columns present good possibilities for further evaluation and link to other columns, the Primary_key: 'podcast_id' and the 'title'."
   ]
  },
  {
   "cell_type": "code",
   "execution_count": 10,
   "id": "c924e30a",
   "metadata": {},
   "outputs": [
    {
     "name": "stdout",
     "output_type": "stream",
     "text": [
      "<class 'pandas.core.frame.DataFrame'>\n",
      "RangeIndex: 212372 entries, 0 to 212371\n",
      "Data columns (total 2 columns):\n",
      " #   Column      Non-Null Count   Dtype \n",
      "---  ------      --------------   ----- \n",
      " 0   podcast_id  212372 non-null  object\n",
      " 1   category    212372 non-null  object\n",
      "dtypes: object(2)\n",
      "memory usage: 3.2+ MB\n"
     ]
    }
   ],
   "source": [
    "categories.info()"
   ]
  },
  {
   "cell_type": "markdown",
   "id": "c1dbdeea",
   "metadata": {},
   "source": [
    "This one only separates the categories into a different dataframe."
   ]
  },
  {
   "cell_type": "code",
   "execution_count": 11,
   "id": "fa6b63cb",
   "metadata": {},
   "outputs": [
    {
     "data": {
      "text/html": [
       "<div>\n",
       "<style scoped>\n",
       "    .dataframe tbody tr th:only-of-type {\n",
       "        vertical-align: middle;\n",
       "    }\n",
       "\n",
       "    .dataframe tbody tr th {\n",
       "        vertical-align: top;\n",
       "    }\n",
       "\n",
       "    .dataframe thead th {\n",
       "        text-align: right;\n",
       "    }\n",
       "</style>\n",
       "<table border=\"1\" class=\"dataframe\">\n",
       "  <thead>\n",
       "    <tr style=\"text-align: right;\">\n",
       "      <th></th>\n",
       "      <th>podcast_id</th>\n",
       "      <th>title</th>\n",
       "      <th>content</th>\n",
       "      <th>rating</th>\n",
       "      <th>author_id</th>\n",
       "      <th>created_at</th>\n",
       "    </tr>\n",
       "  </thead>\n",
       "  <tbody>\n",
       "    <tr>\n",
       "      <th>0</th>\n",
       "      <td>c61aa81c9b929a66f0c1db6cbe5d8548</td>\n",
       "      <td>really interesting!</td>\n",
       "      <td>Thanks for providing these insights.  Really e...</td>\n",
       "      <td>5</td>\n",
       "      <td>F7E5A318989779D</td>\n",
       "      <td>2018-04-24T12:05:16-07:00</td>\n",
       "    </tr>\n",
       "    <tr>\n",
       "      <th>1</th>\n",
       "      <td>c61aa81c9b929a66f0c1db6cbe5d8548</td>\n",
       "      <td>Must listen for anyone interested in the arts!!!</td>\n",
       "      <td>Super excited to see this podcast grow. So man...</td>\n",
       "      <td>5</td>\n",
       "      <td>F6BF5472689BD12</td>\n",
       "      <td>2018-05-09T18:14:32-07:00</td>\n",
       "    </tr>\n",
       "    <tr>\n",
       "      <th>2</th>\n",
       "      <td>ad4f2bf69c72b8db75978423c25f379e</td>\n",
       "      <td>nauseatingly left</td>\n",
       "      <td>I'm a liberal myself, but its pretty obvious a...</td>\n",
       "      <td>1</td>\n",
       "      <td>1AB95B8E6E1309E</td>\n",
       "      <td>2019-06-11T14:53:39-07:00</td>\n",
       "    </tr>\n",
       "    <tr>\n",
       "      <th>3</th>\n",
       "      <td>ad4f2bf69c72b8db75978423c25f379e</td>\n",
       "      <td>Diverse stories</td>\n",
       "      <td>I find Tedx talks very inspirational but I oft...</td>\n",
       "      <td>5</td>\n",
       "      <td>11BB760AA5DEBD1</td>\n",
       "      <td>2018-05-31T13:08:09-07:00</td>\n",
       "    </tr>\n",
       "    <tr>\n",
       "      <th>4</th>\n",
       "      <td>ad4f2bf69c72b8db75978423c25f379e</td>\n",
       "      <td>👍👍👍👍</td>\n",
       "      <td>I love this podcast, it is so good.</td>\n",
       "      <td>5</td>\n",
       "      <td>D86032C8E57D15A</td>\n",
       "      <td>2019-06-19T13:56:05-07:00</td>\n",
       "    </tr>\n",
       "  </tbody>\n",
       "</table>\n",
       "</div>"
      ],
      "text/plain": [
       "                         podcast_id  \\\n",
       "0  c61aa81c9b929a66f0c1db6cbe5d8548   \n",
       "1  c61aa81c9b929a66f0c1db6cbe5d8548   \n",
       "2  ad4f2bf69c72b8db75978423c25f379e   \n",
       "3  ad4f2bf69c72b8db75978423c25f379e   \n",
       "4  ad4f2bf69c72b8db75978423c25f379e   \n",
       "\n",
       "                                              title  \\\n",
       "0                               really interesting!   \n",
       "1  Must listen for anyone interested in the arts!!!   \n",
       "2                                 nauseatingly left   \n",
       "3                                   Diverse stories   \n",
       "4                                              👍👍👍👍   \n",
       "\n",
       "                                             content  rating        author_id  \\\n",
       "0  Thanks for providing these insights.  Really e...       5  F7E5A318989779D   \n",
       "1  Super excited to see this podcast grow. So man...       5  F6BF5472689BD12   \n",
       "2  I'm a liberal myself, but its pretty obvious a...       1  1AB95B8E6E1309E   \n",
       "3  I find Tedx talks very inspirational but I oft...       5  11BB760AA5DEBD1   \n",
       "4                I love this podcast, it is so good.       5  D86032C8E57D15A   \n",
       "\n",
       "                  created_at  \n",
       "0  2018-04-24T12:05:16-07:00  \n",
       "1  2018-05-09T18:14:32-07:00  \n",
       "2  2019-06-11T14:53:39-07:00  \n",
       "3  2018-05-31T13:08:09-07:00  \n",
       "4  2019-06-19T13:56:05-07:00  "
      ]
     },
     "execution_count": 11,
     "metadata": {},
     "output_type": "execute_result"
    }
   ],
   "source": [
    "reviews.head()"
   ]
  },
  {
   "cell_type": "code",
   "execution_count": 12,
   "id": "1332fc52",
   "metadata": {},
   "outputs": [
    {
     "name": "stdout",
     "output_type": "stream",
     "text": [
      "<class 'pandas.core.frame.DataFrame'>\n",
      "RangeIndex: 2067529 entries, 0 to 2067528\n",
      "Data columns (total 6 columns):\n",
      " #   Column      Dtype \n",
      "---  ------      ----- \n",
      " 0   podcast_id  object\n",
      " 1   title       object\n",
      " 2   content     object\n",
      " 3   rating      int64 \n",
      " 4   author_id   object\n",
      " 5   created_at  object\n",
      "dtypes: int64(1), object(5)\n",
      "memory usage: 94.6+ MB\n"
     ]
    }
   ],
   "source": [
    "reviews.info()"
   ]
  },
  {
   "cell_type": "markdown",
   "id": "f7fc7ade",
   "metadata": {},
   "source": [
    "The reviews dataframe contains the author, rating, content and post time for each review of each podcast."
   ]
  },
  {
   "cell_type": "code",
   "execution_count": 13,
   "id": "27ea3a8b",
   "metadata": {
    "scrolled": true
   },
   "outputs": [
    {
     "name": "stdout",
     "output_type": "stream",
     "text": [
      "An average rating of 4.627 is presented in the whole dataset\n"
     ]
    }
   ],
   "source": [
    "print(f\"An average rating of {reviews['rating'].mean():.3f} is presented in the whole dataset\")"
   ]
  },
  {
   "cell_type": "markdown",
   "id": "1cffb34b",
   "metadata": {},
   "source": [
    "The following cell shows how the podcasts are distributed in the different categories. \n",
    "\n",
    "It is to observe that the **greatest number of podcasts** fall into the category **\"society-culture\"**, followed by **\"education\"** and **\"comedy\"**."
   ]
  },
  {
   "cell_type": "code",
   "execution_count": 14,
   "id": "26e8e5ae",
   "metadata": {},
   "outputs": [
    {
     "data": {
      "text/plain": [
       "category\n",
       "society-culture          18710\n",
       "education                12628\n",
       "comedy                   12464\n",
       "religion-spirituality    12190\n",
       "business                 12058\n",
       "                         ...  \n",
       "sports-swimming             18\n",
       "science-physics             18\n",
       "science-chemistry           17\n",
       "science-mathematics         16\n",
       "sports-volleyball           14\n",
       "Length: 110, dtype: int64"
      ]
     },
     "execution_count": 14,
     "metadata": {},
     "output_type": "execute_result"
    }
   ],
   "source": [
    "categories.groupby('category').size().sort_values(ascending=False)"
   ]
  },
  {
   "cell_type": "markdown",
   "id": "7505445f",
   "metadata": {},
   "source": [
    "<h1 style=\"color:#003F7D\">Research Question </h1>"
   ]
  },
  {
   "cell_type": "markdown",
   "id": "65f0f571",
   "metadata": {},
   "source": [
    "After an evaluation of the data, the following reaserch question will be used as goal of this analysis."
   ]
  },
  {
   "cell_type": "markdown",
   "id": "62dab840",
   "metadata": {},
   "source": [
    "<p style=\"color:#003F7D; font-size: 1.1em; text-align: center; background:#eaf4ff; color:#003F7D\">\"Are there significant differences in ratings between the top two categories with the highest number of podcasts, namely 'society-culture' and 'education'?\" </p>"
   ]
  },
  {
   "cell_type": "markdown",
   "id": "fe64683f",
   "metadata": {},
   "source": [
    "<h1 style=\"color:#003F7D\">Data Preparation </h1>"
   ]
  },
  {
   "cell_type": "markdown",
   "id": "61caba4b",
   "metadata": {},
   "source": [
    "Let's start the preparation of the data by merging the title and categories with the reviews."
   ]
  },
  {
   "cell_type": "code",
   "execution_count": 15,
   "id": "948bfb5e",
   "metadata": {},
   "outputs": [],
   "source": [
    "# rename 'title' column in podcasts for future merge\n",
    "podcasts.rename(columns={'title': 'podcast_title'}, inplace=True)"
   ]
  },
  {
   "cell_type": "code",
   "execution_count": 16,
   "id": "5ff08e24",
   "metadata": {},
   "outputs": [],
   "source": [
    "# Merge podcast title\n",
    "reviews_podcast = reviews.merge(podcasts[['podcast_id', 'podcast_title']], on='podcast_id', how='left')\n",
    "\n",
    "# Merge categories, 1 podcast can be classified in different categories\n",
    "categories_dict = categories.groupby('podcast_id')['category'].agg(list).to_dict()\n",
    "reviews_podcast['categories'] = reviews_podcast['podcast_id'].map(categories_dict)"
   ]
  },
  {
   "cell_type": "code",
   "execution_count": 17,
   "id": "46b53ad6",
   "metadata": {},
   "outputs": [
    {
     "data": {
      "text/html": [
       "<div>\n",
       "<style scoped>\n",
       "    .dataframe tbody tr th:only-of-type {\n",
       "        vertical-align: middle;\n",
       "    }\n",
       "\n",
       "    .dataframe tbody tr th {\n",
       "        vertical-align: top;\n",
       "    }\n",
       "\n",
       "    .dataframe thead th {\n",
       "        text-align: right;\n",
       "    }\n",
       "</style>\n",
       "<table border=\"1\" class=\"dataframe\">\n",
       "  <thead>\n",
       "    <tr style=\"text-align: right;\">\n",
       "      <th></th>\n",
       "      <th>podcast_id</th>\n",
       "      <th>title</th>\n",
       "      <th>content</th>\n",
       "      <th>rating</th>\n",
       "      <th>author_id</th>\n",
       "      <th>created_at</th>\n",
       "      <th>podcast_title</th>\n",
       "      <th>categories</th>\n",
       "    </tr>\n",
       "  </thead>\n",
       "  <tbody>\n",
       "    <tr>\n",
       "      <th>0</th>\n",
       "      <td>c61aa81c9b929a66f0c1db6cbe5d8548</td>\n",
       "      <td>really interesting!</td>\n",
       "      <td>Thanks for providing these insights.  Really e...</td>\n",
       "      <td>5</td>\n",
       "      <td>F7E5A318989779D</td>\n",
       "      <td>2018-04-24T12:05:16-07:00</td>\n",
       "      <td>Backstage at Tilles Center</td>\n",
       "      <td>[arts, arts-performing-arts, music]</td>\n",
       "    </tr>\n",
       "    <tr>\n",
       "      <th>1</th>\n",
       "      <td>c61aa81c9b929a66f0c1db6cbe5d8548</td>\n",
       "      <td>Must listen for anyone interested in the arts!!!</td>\n",
       "      <td>Super excited to see this podcast grow. So man...</td>\n",
       "      <td>5</td>\n",
       "      <td>F6BF5472689BD12</td>\n",
       "      <td>2018-05-09T18:14:32-07:00</td>\n",
       "      <td>Backstage at Tilles Center</td>\n",
       "      <td>[arts, arts-performing-arts, music]</td>\n",
       "    </tr>\n",
       "    <tr>\n",
       "      <th>2</th>\n",
       "      <td>ad4f2bf69c72b8db75978423c25f379e</td>\n",
       "      <td>nauseatingly left</td>\n",
       "      <td>I'm a liberal myself, but its pretty obvious a...</td>\n",
       "      <td>1</td>\n",
       "      <td>1AB95B8E6E1309E</td>\n",
       "      <td>2019-06-11T14:53:39-07:00</td>\n",
       "      <td>TED Talks Daily</td>\n",
       "      <td>[arts, arts-design, education, society-culture]</td>\n",
       "    </tr>\n",
       "    <tr>\n",
       "      <th>3</th>\n",
       "      <td>ad4f2bf69c72b8db75978423c25f379e</td>\n",
       "      <td>Diverse stories</td>\n",
       "      <td>I find Tedx talks very inspirational but I oft...</td>\n",
       "      <td>5</td>\n",
       "      <td>11BB760AA5DEBD1</td>\n",
       "      <td>2018-05-31T13:08:09-07:00</td>\n",
       "      <td>TED Talks Daily</td>\n",
       "      <td>[arts, arts-design, education, society-culture]</td>\n",
       "    </tr>\n",
       "    <tr>\n",
       "      <th>4</th>\n",
       "      <td>ad4f2bf69c72b8db75978423c25f379e</td>\n",
       "      <td>👍👍👍👍</td>\n",
       "      <td>I love this podcast, it is so good.</td>\n",
       "      <td>5</td>\n",
       "      <td>D86032C8E57D15A</td>\n",
       "      <td>2019-06-19T13:56:05-07:00</td>\n",
       "      <td>TED Talks Daily</td>\n",
       "      <td>[arts, arts-design, education, society-culture]</td>\n",
       "    </tr>\n",
       "  </tbody>\n",
       "</table>\n",
       "</div>"
      ],
      "text/plain": [
       "                         podcast_id  \\\n",
       "0  c61aa81c9b929a66f0c1db6cbe5d8548   \n",
       "1  c61aa81c9b929a66f0c1db6cbe5d8548   \n",
       "2  ad4f2bf69c72b8db75978423c25f379e   \n",
       "3  ad4f2bf69c72b8db75978423c25f379e   \n",
       "4  ad4f2bf69c72b8db75978423c25f379e   \n",
       "\n",
       "                                              title  \\\n",
       "0                               really interesting!   \n",
       "1  Must listen for anyone interested in the arts!!!   \n",
       "2                                 nauseatingly left   \n",
       "3                                   Diverse stories   \n",
       "4                                              👍👍👍👍   \n",
       "\n",
       "                                             content  rating        author_id  \\\n",
       "0  Thanks for providing these insights.  Really e...       5  F7E5A318989779D   \n",
       "1  Super excited to see this podcast grow. So man...       5  F6BF5472689BD12   \n",
       "2  I'm a liberal myself, but its pretty obvious a...       1  1AB95B8E6E1309E   \n",
       "3  I find Tedx talks very inspirational but I oft...       5  11BB760AA5DEBD1   \n",
       "4                I love this podcast, it is so good.       5  D86032C8E57D15A   \n",
       "\n",
       "                  created_at               podcast_title  \\\n",
       "0  2018-04-24T12:05:16-07:00  Backstage at Tilles Center   \n",
       "1  2018-05-09T18:14:32-07:00  Backstage at Tilles Center   \n",
       "2  2019-06-11T14:53:39-07:00             TED Talks Daily   \n",
       "3  2018-05-31T13:08:09-07:00             TED Talks Daily   \n",
       "4  2019-06-19T13:56:05-07:00             TED Talks Daily   \n",
       "\n",
       "                                        categories  \n",
       "0              [arts, arts-performing-arts, music]  \n",
       "1              [arts, arts-performing-arts, music]  \n",
       "2  [arts, arts-design, education, society-culture]  \n",
       "3  [arts, arts-design, education, society-culture]  \n",
       "4  [arts, arts-design, education, society-culture]  "
      ]
     },
     "execution_count": 17,
     "metadata": {},
     "output_type": "execute_result"
    }
   ],
   "source": [
    "reviews_podcast.head()"
   ]
  },
  {
   "cell_type": "code",
   "execution_count": 18,
   "id": "7c13de32",
   "metadata": {},
   "outputs": [
    {
     "name": "stdout",
     "output_type": "stream",
     "text": [
      "The number of rows of reviews is the same as reviews_podcast: True\n"
     ]
    }
   ],
   "source": [
    "# Verification of the merging process\n",
    "print(f'The number of rows of reviews is the same as reviews_podcast: {reviews_podcast.shape[0] == reviews.shape[0]}')"
   ]
  },
  {
   "cell_type": "code",
   "execution_count": 19,
   "id": "c9b3c40c",
   "metadata": {
    "scrolled": true
   },
   "outputs": [
    {
     "data": {
      "text/plain": [
       "author_id\n",
       "791F376ACA3C08D    615\n",
       "D3307ADEFFA285C    615\n",
       "96A3F0358E7808D    475\n",
       "04C3B6DEFE22FB1    433\n",
       "8858ED4249110B6    399\n",
       "                  ... \n",
       "5E32C6CDF93BB77      1\n",
       "5E32B43F5F49AB3      1\n",
       "5E32AF97EC3F02D      1\n",
       "5E328E090DA4919      1\n",
       "FFFFF7639CED0A6      1\n",
       "Length: 1475285, dtype: int64"
      ]
     },
     "execution_count": 19,
     "metadata": {},
     "output_type": "execute_result"
    }
   ],
   "source": [
    "# Did some of the authors publish a lot of comments?\n",
    "reviews_podcast.groupby('author_id').size().sort_values(ascending=False)"
   ]
  },
  {
   "cell_type": "markdown",
   "id": "9f5137fe",
   "metadata": {},
   "source": [
    "It is suspectifull that 1 user had posted more than 615 comments. Let's investigate further!"
   ]
  },
  {
   "cell_type": "markdown",
   "id": "4d023d71",
   "metadata": {},
   "source": [
    "<h2 style=\"color:#003F7D\">Bots Identification</h2>"
   ]
  },
  {
   "cell_type": "markdown",
   "id": "c17ff6e0",
   "metadata": {},
   "source": [
    "The initial idea was to make a groupby only by \"author_id\" and \"podcast_id\", but some people can indeed leave more than one review for a podcast in a spaced time frame.\n",
    "\n",
    "To be more sure the \"created_at\" column (without time) was also grouped."
   ]
  },
  {
   "cell_type": "code",
   "execution_count": 20,
   "id": "61710da6",
   "metadata": {},
   "outputs": [],
   "source": [
    "# Convert 'created_at' column to datetime type\n",
    "reviews_podcast['created_at'] = pd.to_datetime(reviews_podcast['created_at'])"
   ]
  },
  {
   "cell_type": "code",
   "execution_count": 21,
   "id": "159f3599",
   "metadata": {
    "scrolled": false
   },
   "outputs": [
    {
     "data": {
      "text/html": [
       "<div>\n",
       "<style scoped>\n",
       "    .dataframe tbody tr th:only-of-type {\n",
       "        vertical-align: middle;\n",
       "    }\n",
       "\n",
       "    .dataframe tbody tr th {\n",
       "        vertical-align: top;\n",
       "    }\n",
       "\n",
       "    .dataframe thead th {\n",
       "        text-align: right;\n",
       "    }\n",
       "</style>\n",
       "<table border=\"1\" class=\"dataframe\">\n",
       "  <thead>\n",
       "    <tr style=\"text-align: right;\">\n",
       "      <th></th>\n",
       "      <th>author_id</th>\n",
       "      <th>podcast_id</th>\n",
       "      <th>podcast_title</th>\n",
       "      <th>created_at</th>\n",
       "      <th>average_rating</th>\n",
       "      <th>count</th>\n",
       "      <th>categories</th>\n",
       "    </tr>\n",
       "  </thead>\n",
       "  <tbody>\n",
       "    <tr>\n",
       "      <th>0</th>\n",
       "      <td>638AB2A1FAD6645</td>\n",
       "      <td>cb32c9f3c108d06349a72f2ad56fc3f4</td>\n",
       "      <td>Raider Power Podcast</td>\n",
       "      <td>2018-09-11 00:00:00-07:00</td>\n",
       "      <td>5.0</td>\n",
       "      <td>40</td>\n",
       "      <td>[sports, sports-basketball, sports-football]</td>\n",
       "    </tr>\n",
       "    <tr>\n",
       "      <th>1</th>\n",
       "      <td>D5B2B52C3CD80F8</td>\n",
       "      <td>b34801afb33a9076b211f0c261b3d72e</td>\n",
       "      <td>iNTO THE FRAY RADIO - An Encounter with the Ab...</td>\n",
       "      <td>2018-09-09 00:00:00-07:00</td>\n",
       "      <td>5.0</td>\n",
       "      <td>38</td>\n",
       "      <td>[science]</td>\n",
       "    </tr>\n",
       "    <tr>\n",
       "      <th>2</th>\n",
       "      <td>D02C95E0FC00426</td>\n",
       "      <td>c22c8ca2cb8dcd50c3d889ba17de8087</td>\n",
       "      <td>Mitchum | Tales of a Moonshine Bootlegger in G...</td>\n",
       "      <td>2018-09-10 00:00:00-07:00</td>\n",
       "      <td>5.0</td>\n",
       "      <td>24</td>\n",
       "      <td>[society-culture, society-culture-personal-jou...</td>\n",
       "    </tr>\n",
       "    <tr>\n",
       "      <th>3</th>\n",
       "      <td>BAC4454D7D50CEB</td>\n",
       "      <td>ecf4a9caf3835a660f83edfa27d57af1</td>\n",
       "      <td>Mary English Astrologer Blog</td>\n",
       "      <td>2018-09-06 00:00:00-07:00</td>\n",
       "      <td>5.0</td>\n",
       "      <td>24</td>\n",
       "      <td>[religion-spirituality, society-culture, spiri...</td>\n",
       "    </tr>\n",
       "    <tr>\n",
       "      <th>4</th>\n",
       "      <td>2AA5C9E5F647668</td>\n",
       "      <td>a7937ef8ee6043959d9f0ce436b062b5</td>\n",
       "      <td>DnDnD</td>\n",
       "      <td>2018-09-07 00:00:00-07:00</td>\n",
       "      <td>5.0</td>\n",
       "      <td>18</td>\n",
       "      <td>[comedy, fiction, fiction-comedy-fiction]</td>\n",
       "    </tr>\n",
       "  </tbody>\n",
       "</table>\n",
       "</div>"
      ],
      "text/plain": [
       "         author_id                        podcast_id  \\\n",
       "0  638AB2A1FAD6645  cb32c9f3c108d06349a72f2ad56fc3f4   \n",
       "1  D5B2B52C3CD80F8  b34801afb33a9076b211f0c261b3d72e   \n",
       "2  D02C95E0FC00426  c22c8ca2cb8dcd50c3d889ba17de8087   \n",
       "3  BAC4454D7D50CEB  ecf4a9caf3835a660f83edfa27d57af1   \n",
       "4  2AA5C9E5F647668  a7937ef8ee6043959d9f0ce436b062b5   \n",
       "\n",
       "                                       podcast_title  \\\n",
       "0                               Raider Power Podcast   \n",
       "1  iNTO THE FRAY RADIO - An Encounter with the Ab...   \n",
       "2  Mitchum | Tales of a Moonshine Bootlegger in G...   \n",
       "3                       Mary English Astrologer Blog   \n",
       "4                                              DnDnD   \n",
       "\n",
       "                 created_at  average_rating  count  \\\n",
       "0 2018-09-11 00:00:00-07:00             5.0     40   \n",
       "1 2018-09-09 00:00:00-07:00             5.0     38   \n",
       "2 2018-09-10 00:00:00-07:00             5.0     24   \n",
       "3 2018-09-06 00:00:00-07:00             5.0     24   \n",
       "4 2018-09-07 00:00:00-07:00             5.0     18   \n",
       "\n",
       "                                          categories  \n",
       "0       [sports, sports-basketball, sports-football]  \n",
       "1                                          [science]  \n",
       "2  [society-culture, society-culture-personal-jou...  \n",
       "3  [religion-spirituality, society-culture, spiri...  \n",
       "4          [comedy, fiction, fiction-comedy-fiction]  "
      ]
     },
     "execution_count": 21,
     "metadata": {},
     "output_type": "execute_result"
    }
   ],
   "source": [
    "# Group the repeated reviews of the same author for 1 podcast in 1 day\n",
    "grouped_reviews_podcast = (\n",
    "    reviews_podcast.groupby([\"author_id\", \"podcast_id\", \"podcast_title\", pd.Grouper(key='created_at', freq='D')])\n",
    "    .agg(average_rating=(\"rating\", \"mean\"), count=(\"rating\", \"size\"))\n",
    "    .sort_values(by=\"count\", ascending=False)\n",
    "    .reset_index()\n",
    ")\n",
    "\n",
    "# Add the categories to associated to each podcast_id\n",
    "grouped_reviews_podcast['categories'] = grouped_reviews_podcast['podcast_id'].map(categories_dict)\n",
    "grouped_reviews_podcast.head()"
   ]
  },
  {
   "cell_type": "markdown",
   "id": "cb42178e",
   "metadata": {},
   "source": [
    "As one can see, for \"Raider Power Podcast\" 1 user published about 40 comments in 1 day.\n",
    "\n",
    "When the date is excluded from the grouping, the values get to 79 ratings from the same user to 1 podcast (\"The Daily\")."
   ]
  },
  {
   "cell_type": "markdown",
   "id": "2eb00365",
   "metadata": {},
   "source": [
    "The data will be cleaned considering that a bot/flood reviews happened by any count higher than 2."
   ]
  },
  {
   "cell_type": "code",
   "execution_count": 22,
   "id": "fb941bf9",
   "metadata": {},
   "outputs": [],
   "source": [
    "bot_authors = grouped_reviews_podcast['author_id'][grouped_reviews_podcast['count'] > 2].unique()"
   ]
  },
  {
   "cell_type": "code",
   "execution_count": 23,
   "id": "08043fcf",
   "metadata": {},
   "outputs": [],
   "source": [
    "filtered_reviews = reviews_podcast[~reviews_podcast['author_id'].isin(bot_authors)]"
   ]
  },
  {
   "cell_type": "code",
   "execution_count": 24,
   "id": "a116f620",
   "metadata": {},
   "outputs": [
    {
     "name": "stdout",
     "output_type": "stream",
     "text": [
      "The identified bots represent 0.032% of the data\n",
      "The identified bots represent 671 rows of the data\n"
     ]
    }
   ],
   "source": [
    "print(\n",
    "    f\"The identified bots represent {100*(reviews_podcast.shape[0] - filtered_reviews.shape[0])/reviews_podcast.shape[0]:.3f}% of the data\"\n",
    ")\n",
    "print(\n",
    "    f\"The identified bots represent {(reviews_podcast.shape[0] - filtered_reviews.shape[0])} rows of the data\"\n",
    ")"
   ]
  },
  {
   "cell_type": "markdown",
   "id": "c39aecaf",
   "metadata": {},
   "source": [
    "As shown, it is not expected that the global average rating for podcasts will change with these bots (too small proportion of the data).\n",
    "\n",
    "The filtered data will be used as base for further exploration."
   ]
  },
  {
   "cell_type": "code",
   "execution_count": 25,
   "id": "31cd9cd3",
   "metadata": {},
   "outputs": [
    {
     "data": {
      "text/html": [
       "<div>\n",
       "<style scoped>\n",
       "    .dataframe tbody tr th:only-of-type {\n",
       "        vertical-align: middle;\n",
       "    }\n",
       "\n",
       "    .dataframe tbody tr th {\n",
       "        vertical-align: top;\n",
       "    }\n",
       "\n",
       "    .dataframe thead th {\n",
       "        text-align: right;\n",
       "    }\n",
       "</style>\n",
       "<table border=\"1\" class=\"dataframe\">\n",
       "  <thead>\n",
       "    <tr style=\"text-align: right;\">\n",
       "      <th></th>\n",
       "      <th>podcast_id</th>\n",
       "      <th>title</th>\n",
       "      <th>content</th>\n",
       "      <th>rating</th>\n",
       "      <th>author_id</th>\n",
       "      <th>created_at</th>\n",
       "      <th>podcast_title</th>\n",
       "      <th>categories</th>\n",
       "    </tr>\n",
       "  </thead>\n",
       "  <tbody>\n",
       "    <tr>\n",
       "      <th>0</th>\n",
       "      <td>c61aa81c9b929a66f0c1db6cbe5d8548</td>\n",
       "      <td>really interesting!</td>\n",
       "      <td>Thanks for providing these insights.  Really e...</td>\n",
       "      <td>5</td>\n",
       "      <td>F7E5A318989779D</td>\n",
       "      <td>2018-04-24 12:05:16-07:00</td>\n",
       "      <td>Backstage at Tilles Center</td>\n",
       "      <td>[arts, arts-performing-arts, music]</td>\n",
       "    </tr>\n",
       "    <tr>\n",
       "      <th>1</th>\n",
       "      <td>c61aa81c9b929a66f0c1db6cbe5d8548</td>\n",
       "      <td>Must listen for anyone interested in the arts!!!</td>\n",
       "      <td>Super excited to see this podcast grow. So man...</td>\n",
       "      <td>5</td>\n",
       "      <td>F6BF5472689BD12</td>\n",
       "      <td>2018-05-09 18:14:32-07:00</td>\n",
       "      <td>Backstage at Tilles Center</td>\n",
       "      <td>[arts, arts-performing-arts, music]</td>\n",
       "    </tr>\n",
       "    <tr>\n",
       "      <th>2</th>\n",
       "      <td>ad4f2bf69c72b8db75978423c25f379e</td>\n",
       "      <td>nauseatingly left</td>\n",
       "      <td>I'm a liberal myself, but its pretty obvious a...</td>\n",
       "      <td>1</td>\n",
       "      <td>1AB95B8E6E1309E</td>\n",
       "      <td>2019-06-11 14:53:39-07:00</td>\n",
       "      <td>TED Talks Daily</td>\n",
       "      <td>[arts, arts-design, education, society-culture]</td>\n",
       "    </tr>\n",
       "    <tr>\n",
       "      <th>3</th>\n",
       "      <td>ad4f2bf69c72b8db75978423c25f379e</td>\n",
       "      <td>Diverse stories</td>\n",
       "      <td>I find Tedx talks very inspirational but I oft...</td>\n",
       "      <td>5</td>\n",
       "      <td>11BB760AA5DEBD1</td>\n",
       "      <td>2018-05-31 13:08:09-07:00</td>\n",
       "      <td>TED Talks Daily</td>\n",
       "      <td>[arts, arts-design, education, society-culture]</td>\n",
       "    </tr>\n",
       "    <tr>\n",
       "      <th>4</th>\n",
       "      <td>ad4f2bf69c72b8db75978423c25f379e</td>\n",
       "      <td>👍👍👍👍</td>\n",
       "      <td>I love this podcast, it is so good.</td>\n",
       "      <td>5</td>\n",
       "      <td>D86032C8E57D15A</td>\n",
       "      <td>2019-06-19 13:56:05-07:00</td>\n",
       "      <td>TED Talks Daily</td>\n",
       "      <td>[arts, arts-design, education, society-culture]</td>\n",
       "    </tr>\n",
       "  </tbody>\n",
       "</table>\n",
       "</div>"
      ],
      "text/plain": [
       "                         podcast_id  \\\n",
       "0  c61aa81c9b929a66f0c1db6cbe5d8548   \n",
       "1  c61aa81c9b929a66f0c1db6cbe5d8548   \n",
       "2  ad4f2bf69c72b8db75978423c25f379e   \n",
       "3  ad4f2bf69c72b8db75978423c25f379e   \n",
       "4  ad4f2bf69c72b8db75978423c25f379e   \n",
       "\n",
       "                                              title  \\\n",
       "0                               really interesting!   \n",
       "1  Must listen for anyone interested in the arts!!!   \n",
       "2                                 nauseatingly left   \n",
       "3                                   Diverse stories   \n",
       "4                                              👍👍👍👍   \n",
       "\n",
       "                                             content  rating        author_id  \\\n",
       "0  Thanks for providing these insights.  Really e...       5  F7E5A318989779D   \n",
       "1  Super excited to see this podcast grow. So man...       5  F6BF5472689BD12   \n",
       "2  I'm a liberal myself, but its pretty obvious a...       1  1AB95B8E6E1309E   \n",
       "3  I find Tedx talks very inspirational but I oft...       5  11BB760AA5DEBD1   \n",
       "4                I love this podcast, it is so good.       5  D86032C8E57D15A   \n",
       "\n",
       "                 created_at               podcast_title  \\\n",
       "0 2018-04-24 12:05:16-07:00  Backstage at Tilles Center   \n",
       "1 2018-05-09 18:14:32-07:00  Backstage at Tilles Center   \n",
       "2 2019-06-11 14:53:39-07:00             TED Talks Daily   \n",
       "3 2018-05-31 13:08:09-07:00             TED Talks Daily   \n",
       "4 2019-06-19 13:56:05-07:00             TED Talks Daily   \n",
       "\n",
       "                                        categories  \n",
       "0              [arts, arts-performing-arts, music]  \n",
       "1              [arts, arts-performing-arts, music]  \n",
       "2  [arts, arts-design, education, society-culture]  \n",
       "3  [arts, arts-design, education, society-culture]  \n",
       "4  [arts, arts-design, education, society-culture]  "
      ]
     },
     "execution_count": 25,
     "metadata": {},
     "output_type": "execute_result"
    }
   ],
   "source": [
    "filtered_reviews.head()"
   ]
  },
  {
   "cell_type": "markdown",
   "id": "395775ee",
   "metadata": {},
   "source": [
    "<h1 style=\"color:#003F7D\">Data Exploration </h1>"
   ]
  },
  {
   "cell_type": "markdown",
   "id": "9339f6d5",
   "metadata": {},
   "source": [
    "<h2 style=\"color:#003F7D\">Categories</h2>"
   ]
  },
  {
   "cell_type": "markdown",
   "id": "924d2106",
   "metadata": {},
   "source": [
    "Let's start by making a SQL query to have the average rating and the number of reviews for each category, from the original dataset."
   ]
  },
  {
   "cell_type": "code",
   "execution_count": 26,
   "id": "4953cb73",
   "metadata": {},
   "outputs": [
    {
     "data": {
      "text/html": [
       "<div>\n",
       "<style scoped>\n",
       "    .dataframe tbody tr th:only-of-type {\n",
       "        vertical-align: middle;\n",
       "    }\n",
       "\n",
       "    .dataframe tbody tr th {\n",
       "        vertical-align: top;\n",
       "    }\n",
       "\n",
       "    .dataframe thead th {\n",
       "        text-align: right;\n",
       "    }\n",
       "</style>\n",
       "<table border=\"1\" class=\"dataframe\">\n",
       "  <thead>\n",
       "    <tr style=\"text-align: right;\">\n",
       "      <th></th>\n",
       "      <th>category</th>\n",
       "      <th>avg_rating_original</th>\n",
       "      <th>total_reviews_original</th>\n",
       "    </tr>\n",
       "  </thead>\n",
       "  <tbody>\n",
       "    <tr>\n",
       "      <th>0</th>\n",
       "      <td>sports-rugby</td>\n",
       "      <td>4.988024</td>\n",
       "      <td>167</td>\n",
       "    </tr>\n",
       "    <tr>\n",
       "      <th>1</th>\n",
       "      <td>business-marketing</td>\n",
       "      <td>4.937095</td>\n",
       "      <td>28869</td>\n",
       "    </tr>\n",
       "    <tr>\n",
       "      <th>2</th>\n",
       "      <td>business-entrepreneurship</td>\n",
       "      <td>4.908377</td>\n",
       "      <td>80242</td>\n",
       "    </tr>\n",
       "    <tr>\n",
       "      <th>3</th>\n",
       "      <td>business-non-profit</td>\n",
       "      <td>4.901167</td>\n",
       "      <td>2570</td>\n",
       "    </tr>\n",
       "    <tr>\n",
       "      <th>4</th>\n",
       "      <td>sports-swimming</td>\n",
       "      <td>4.892308</td>\n",
       "      <td>130</td>\n",
       "    </tr>\n",
       "    <tr>\n",
       "      <th>5</th>\n",
       "      <td>sports-running</td>\n",
       "      <td>4.891993</td>\n",
       "      <td>6157</td>\n",
       "    </tr>\n",
       "    <tr>\n",
       "      <th>6</th>\n",
       "      <td>business-careers</td>\n",
       "      <td>4.890061</td>\n",
       "      <td>53921</td>\n",
       "    </tr>\n",
       "    <tr>\n",
       "      <th>7</th>\n",
       "      <td>science-chemistry</td>\n",
       "      <td>4.882716</td>\n",
       "      <td>162</td>\n",
       "    </tr>\n",
       "  </tbody>\n",
       "</table>\n",
       "</div>"
      ],
      "text/plain": [
       "                    category  avg_rating_original  total_reviews_original\n",
       "0               sports-rugby             4.988024                     167\n",
       "1         business-marketing             4.937095                   28869\n",
       "2  business-entrepreneurship             4.908377                   80242\n",
       "3        business-non-profit             4.901167                    2570\n",
       "4            sports-swimming             4.892308                     130\n",
       "5             sports-running             4.891993                    6157\n",
       "6           business-careers             4.890061                   53921\n",
       "7          science-chemistry             4.882716                     162"
      ]
     },
     "execution_count": 26,
     "metadata": {},
     "output_type": "execute_result"
    }
   ],
   "source": [
    "query = \"\"\"SELECT  c.category,\n",
    "                    AVG(r.rating) AS avg_rating_original, \n",
    "                    COUNT(*) AS total_reviews_original\n",
    "         FROM reviews r\n",
    "         JOIN categories c\n",
    "         ON r.podcast_id=c.podcast_id \n",
    "         GROUP BY 1 \n",
    "         ORDER BY 2 DESC;\"\"\"\n",
    "\n",
    "category_stats = pd.read_sql(query, con)\n",
    "category_stats.head(8)"
   ]
  },
  {
   "cell_type": "code",
   "execution_count": 27,
   "id": "cddadcee",
   "metadata": {},
   "outputs": [
    {
     "data": {
      "text/html": [
       "<div>\n",
       "<style scoped>\n",
       "    .dataframe tbody tr th:only-of-type {\n",
       "        vertical-align: middle;\n",
       "    }\n",
       "\n",
       "    .dataframe tbody tr th {\n",
       "        vertical-align: top;\n",
       "    }\n",
       "\n",
       "    .dataframe thead th {\n",
       "        text-align: right;\n",
       "    }\n",
       "</style>\n",
       "<table border=\"1\" class=\"dataframe\">\n",
       "  <thead>\n",
       "    <tr style=\"text-align: right;\">\n",
       "      <th></th>\n",
       "      <th>avg_rating_original</th>\n",
       "      <th>total_reviews_original</th>\n",
       "    </tr>\n",
       "  </thead>\n",
       "  <tbody>\n",
       "    <tr>\n",
       "      <th>count</th>\n",
       "      <td>110.000000</td>\n",
       "      <td>110.000000</td>\n",
       "    </tr>\n",
       "    <tr>\n",
       "      <th>mean</th>\n",
       "      <td>4.695710</td>\n",
       "      <td>41177.118182</td>\n",
       "    </tr>\n",
       "    <tr>\n",
       "      <th>std</th>\n",
       "      <td>0.174850</td>\n",
       "      <td>68781.039431</td>\n",
       "    </tr>\n",
       "    <tr>\n",
       "      <th>min</th>\n",
       "      <td>3.965203</td>\n",
       "      <td>84.000000</td>\n",
       "    </tr>\n",
       "    <tr>\n",
       "      <th>25%</th>\n",
       "      <td>4.612307</td>\n",
       "      <td>5876.500000</td>\n",
       "    </tr>\n",
       "    <tr>\n",
       "      <th>50%</th>\n",
       "      <td>4.752511</td>\n",
       "      <td>17769.000000</td>\n",
       "    </tr>\n",
       "    <tr>\n",
       "      <th>75%</th>\n",
       "      <td>4.817755</td>\n",
       "      <td>38433.000000</td>\n",
       "    </tr>\n",
       "    <tr>\n",
       "      <th>max</th>\n",
       "      <td>4.988024</td>\n",
       "      <td>441874.000000</td>\n",
       "    </tr>\n",
       "  </tbody>\n",
       "</table>\n",
       "</div>"
      ],
      "text/plain": [
       "       avg_rating_original  total_reviews_original\n",
       "count           110.000000              110.000000\n",
       "mean              4.695710            41177.118182\n",
       "std               0.174850            68781.039431\n",
       "min               3.965203               84.000000\n",
       "25%               4.612307             5876.500000\n",
       "50%               4.752511            17769.000000\n",
       "75%               4.817755            38433.000000\n",
       "max               4.988024           441874.000000"
      ]
     },
     "execution_count": 27,
     "metadata": {},
     "output_type": "execute_result"
    }
   ],
   "source": [
    "category_stats.describe()"
   ]
  },
  {
   "cell_type": "code",
   "execution_count": 28,
   "id": "ccc0de7d",
   "metadata": {},
   "outputs": [
    {
     "data": {
      "image/png": "[encoded data removed]",
      "text/plain": [
       "<Figure size 1000x400 with 2 Axes>"
      ]
     },
     "metadata": {},
     "output_type": "display_data"
    }
   ],
   "source": [
    "# Violinplot\n",
    "fig, (ax1, ax2) = plt.subplots(1, 2, figsize=(10, 4))\n",
    "\n",
    "sns.violinplot(\n",
    "    y=category_stats[\"avg_rating_original\"],\n",
    "    inner=\"quartile\",\n",
    "    linewidth=1.5,\n",
    "    color=\"lightgrey\",\n",
    "    ax=ax1,\n",
    ")\n",
    "sns.stripplot(\n",
    "    y=category_stats[\"avg_rating_original\"], size=3, color=\"#ff9194\", alpha=0.6, ax=ax1\n",
    ")\n",
    "\n",
    "sns.violinplot(\n",
    "    y=category_stats[\"total_reviews_original\"],\n",
    "    inner=\"quartile\",\n",
    "    linewidth=1.5,\n",
    "    color=\"lightblue\",\n",
    "    ax=ax2,\n",
    ")\n",
    "sns.stripplot(\n",
    "    y=category_stats[\"total_reviews_original\"], size=3, color=\"#ff9194\", alpha=0.6, ax=ax2,\n",
    ")\n",
    "\n",
    "ylabels = ['{:,.1f}'.format(y) + 'mi' for y in ax2.get_yticks()/1_000_000]\n",
    "ax2.set_yticklabels(ylabels)\n",
    "\n",
    "clear_boxplot(ax1, \"Category Rating Distribution\", plot_ylabel=\"Average Rating\")\n",
    "clear_boxplot(ax2, \"Category Total Reviews\", plot_ylabel=\"Number of Reviews\")"
   ]
  },
  {
   "cell_type": "markdown",
   "id": "e2e1e5b8",
   "metadata": {},
   "source": [
    "As shown in through the statistics and supported through the graphs, the median of the reviews per category is 4.75.\n",
    "\n",
    "Most of the categories are very well rated. The minimal rating found in a category is 3.96.\n",
    "\n",
    "The difference between the mean and median in the total reviews indicates a that the distribution is not normal. Let's take a look into that."
   ]
  },
  {
   "cell_type": "code",
   "execution_count": 29,
   "id": "77ddea86",
   "metadata": {},
   "outputs": [
    {
     "data": {
      "image/png": "[encoded data removed]",
      "text/plain": [
       "<Figure size 1000x400 with 2 Axes>"
      ]
     },
     "metadata": {},
     "output_type": "display_data"
    }
   ],
   "source": [
    "fig, (ax1, ax2) = plt.subplots(1, 2, figsize=(10, 4))\n",
    "\n",
    "sns.histplot(category_stats[\"avg_rating_original\"], kde=False, color='lightgrey', ax=ax1)\n",
    "clear_histplot(ax1, \"Histogram of Category Average Ratings\", plot_xlabel=\"Average Rating\")\n",
    "\n",
    "sns.histplot(category_stats[\"total_reviews_original\"], kde=False, color='lightblue', ax=ax2)\n",
    "xlabels = ['{:,.1f}'.format(x) + 'mi' for x in ax2.get_xticks()/1_000_000]\n",
    "ax2.set_xticklabels(xlabels)\n",
    "\n",
    "clear_histplot(ax2, \"Histogram of Category Total Reviews\", plot_xlabel=\"Number of reviews\")"
   ]
  },
  {
   "cell_type": "markdown",
   "id": "a23f7156",
   "metadata": {},
   "source": [
    "As commented before, the distribution of the reviews is skewed to the right. This skeweness effect could be decreased by removing the outliers, though the data would still be right skewed."
   ]
  },
  {
   "cell_type": "markdown",
   "id": "b49d8381",
   "metadata": {},
   "source": [
    "<h2 style=\"color:#003F7D\">Target categories</h2>"
   ]
  },
  {
   "cell_type": "markdown",
   "id": "2903c319",
   "metadata": {},
   "source": [
    "Now we can take a look at our target categories."
   ]
  },
  {
   "cell_type": "code",
   "execution_count": 30,
   "id": "6be07b03",
   "metadata": {
    "scrolled": true
   },
   "outputs": [
    {
     "data": {
      "text/html": [
       "<div>\n",
       "<style scoped>\n",
       "    .dataframe tbody tr th:only-of-type {\n",
       "        vertical-align: middle;\n",
       "    }\n",
       "\n",
       "    .dataframe tbody tr th {\n",
       "        vertical-align: top;\n",
       "    }\n",
       "\n",
       "    .dataframe thead th {\n",
       "        text-align: right;\n",
       "    }\n",
       "</style>\n",
       "<table border=\"1\" class=\"dataframe\">\n",
       "  <thead>\n",
       "    <tr style=\"text-align: right;\">\n",
       "      <th></th>\n",
       "      <th>category</th>\n",
       "      <th>avg_rating_original</th>\n",
       "      <th>total_reviews_original</th>\n",
       "    </tr>\n",
       "  </thead>\n",
       "  <tbody>\n",
       "    <tr>\n",
       "      <th>29</th>\n",
       "      <td>education</td>\n",
       "      <td>4.813994</td>\n",
       "      <td>221831</td>\n",
       "    </tr>\n",
       "    <tr>\n",
       "      <th>88</th>\n",
       "      <td>society-culture</td>\n",
       "      <td>4.546984</td>\n",
       "      <td>441874</td>\n",
       "    </tr>\n",
       "  </tbody>\n",
       "</table>\n",
       "</div>"
      ],
      "text/plain": [
       "           category  avg_rating_original  total_reviews_original\n",
       "29        education             4.813994                  221831\n",
       "88  society-culture             4.546984                  441874"
      ]
     },
     "execution_count": 30,
     "metadata": {},
     "output_type": "execute_result"
    }
   ],
   "source": [
    "category_stats[category_stats['category'].isin(['society-culture','education'])]"
   ]
  },
  {
   "cell_type": "markdown",
   "id": "c6c6aafa",
   "metadata": {},
   "source": [
    "As we can see, there is a difference in the average ratings for the desired categories. Is this difference significant? \n",
    "\n",
    "How much impact did the removal of bot authors impacted these categories?\n",
    "\n",
    "To answer to the second question, we will create a table that contains both these statistics for the original values and the ones after data cleaning."
   ]
  },
  {
   "cell_type": "code",
   "execution_count": 31,
   "id": "914dd722",
   "metadata": {},
   "outputs": [
    {
     "data": {
      "text/html": [
       "<div>\n",
       "<style scoped>\n",
       "    .dataframe tbody tr th:only-of-type {\n",
       "        vertical-align: middle;\n",
       "    }\n",
       "\n",
       "    .dataframe tbody tr th {\n",
       "        vertical-align: top;\n",
       "    }\n",
       "\n",
       "    .dataframe thead th {\n",
       "        text-align: right;\n",
       "    }\n",
       "</style>\n",
       "<table border=\"1\" class=\"dataframe\">\n",
       "  <thead>\n",
       "    <tr style=\"text-align: right;\">\n",
       "      <th></th>\n",
       "      <th>category</th>\n",
       "      <th>avg_rating_filtered</th>\n",
       "      <th>total_reviews_filtered</th>\n",
       "    </tr>\n",
       "  </thead>\n",
       "  <tbody>\n",
       "    <tr>\n",
       "      <th>94</th>\n",
       "      <td>sports-rugby</td>\n",
       "      <td>4.988024</td>\n",
       "      <td>167</td>\n",
       "    </tr>\n",
       "    <tr>\n",
       "      <th>13</th>\n",
       "      <td>business-marketing</td>\n",
       "      <td>4.937071</td>\n",
       "      <td>28858</td>\n",
       "    </tr>\n",
       "    <tr>\n",
       "      <th>10</th>\n",
       "      <td>business-entrepreneurship</td>\n",
       "      <td>4.908345</td>\n",
       "      <td>80214</td>\n",
       "    </tr>\n",
       "    <tr>\n",
       "      <th>14</th>\n",
       "      <td>business-non-profit</td>\n",
       "      <td>4.901129</td>\n",
       "      <td>2569</td>\n",
       "    </tr>\n",
       "    <tr>\n",
       "      <th>97</th>\n",
       "      <td>sports-swimming</td>\n",
       "      <td>4.892308</td>\n",
       "      <td>130</td>\n",
       "    </tr>\n",
       "    <tr>\n",
       "      <th>95</th>\n",
       "      <td>sports-running</td>\n",
       "      <td>4.891993</td>\n",
       "      <td>6157</td>\n",
       "    </tr>\n",
       "    <tr>\n",
       "      <th>9</th>\n",
       "      <td>business-careers</td>\n",
       "      <td>4.890219</td>\n",
       "      <td>53889</td>\n",
       "    </tr>\n",
       "    <tr>\n",
       "      <th>71</th>\n",
       "      <td>science-chemistry</td>\n",
       "      <td>4.882716</td>\n",
       "      <td>162</td>\n",
       "    </tr>\n",
       "  </tbody>\n",
       "</table>\n",
       "</div>"
      ],
      "text/plain": [
       "                     category  avg_rating_filtered  total_reviews_filtered\n",
       "94               sports-rugby             4.988024                     167\n",
       "13         business-marketing             4.937071                   28858\n",
       "10  business-entrepreneurship             4.908345                   80214\n",
       "14        business-non-profit             4.901129                    2569\n",
       "97            sports-swimming             4.892308                     130\n",
       "95             sports-running             4.891993                    6157\n",
       "9            business-careers             4.890219                   53889\n",
       "71          science-chemistry             4.882716                     162"
      ]
     },
     "execution_count": 31,
     "metadata": {},
     "output_type": "execute_result"
    }
   ],
   "source": [
    "# Split the categories into separate rows\n",
    "filtered_reviews_exploded = filtered_reviews.explode(\"categories\")\n",
    "\n",
    "# Average rating and total reviews for each category - cleaned data\n",
    "category_stats_filtered = (\n",
    "    filtered_reviews_exploded.groupby(\"categories\")\n",
    "    .agg({\"rating\": \"mean\", \"podcast_id\": \"count\"})\n",
    "    .reset_index()\n",
    "    .rename(columns={\"categories\": \"category\", \"rating\": \"avg_rating_filtered\", \"podcast_id\": \"total_reviews_filtered\"})\n",
    "    .sort_values(\"avg_rating_filtered\", ascending=False)\n",
    ")\n",
    "category_stats_filtered.head(8)"
   ]
  },
  {
   "cell_type": "code",
   "execution_count": 32,
   "id": "be0a9795",
   "metadata": {},
   "outputs": [],
   "source": [
    "# Merge of original and filtered statistics\n",
    "category_stats_filtered = category_stats_filtered.merge(category_stats, on='category', how='left')\n",
    "\n",
    "# Compute of difference in average ratings and in total number of reviews. \n",
    "category_stats_filtered[\"avg_rating_diff\"] = (\n",
    "    category_stats_filtered[\"avg_rating_filtered\"] - category_stats_filtered[\"avg_rating_original\"]\n",
    ")\n",
    "\n",
    "category_stats_filtered[\"total_reviews_diff\"] = (\n",
    "    category_stats_filtered[\"total_reviews_filtered\"] - category_stats_filtered[\"total_reviews_original\"]\n",
    ")"
   ]
  },
  {
   "cell_type": "code",
   "execution_count": 33,
   "id": "92acc75d",
   "metadata": {},
   "outputs": [
    {
     "data": {
      "text/html": [
       "<div>\n",
       "<style scoped>\n",
       "    .dataframe tbody tr th:only-of-type {\n",
       "        vertical-align: middle;\n",
       "    }\n",
       "\n",
       "    .dataframe tbody tr th {\n",
       "        vertical-align: top;\n",
       "    }\n",
       "\n",
       "    .dataframe thead th {\n",
       "        text-align: right;\n",
       "    }\n",
       "</style>\n",
       "<table border=\"1\" class=\"dataframe\">\n",
       "  <thead>\n",
       "    <tr style=\"text-align: right;\">\n",
       "      <th></th>\n",
       "      <th>category</th>\n",
       "      <th>avg_rating_filtered</th>\n",
       "      <th>total_reviews_filtered</th>\n",
       "      <th>avg_rating_original</th>\n",
       "      <th>total_reviews_original</th>\n",
       "      <th>avg_rating_diff</th>\n",
       "      <th>total_reviews_diff</th>\n",
       "    </tr>\n",
       "  </thead>\n",
       "  <tbody>\n",
       "  </tbody>\n",
       "</table>\n",
       "</div>"
      ],
      "text/plain": [
       "Empty DataFrame\n",
       "Columns: [category, avg_rating_filtered, total_reviews_filtered, avg_rating_original, total_reviews_original, avg_rating_diff, total_reviews_diff]\n",
       "Index: []"
      ]
     },
     "execution_count": 33,
     "metadata": {},
     "output_type": "execute_result"
    }
   ],
   "source": [
    "# Sort the data\n",
    "category_stats_filtered = category_stats_filtered.sort_values(\n",
    "    by=\"total_reviews_diff\", ascending=True\n",
    ")\n",
    "\n",
    "# Show the data for categories where the rating change is higher than 0.01\n",
    "category_stats_filtered[\n",
    "    (category_stats_filtered[\"avg_rating_diff\"] > 0.01)\n",
    "    | (category_stats_filtered[\"avg_rating_diff\"] < -0.01)\n",
    "]"
   ]
  },
  {
   "cell_type": "code",
   "execution_count": 34,
   "id": "e1a068a6",
   "metadata": {},
   "outputs": [
    {
     "data": {
      "text/html": [
       "<div>\n",
       "<style scoped>\n",
       "    .dataframe tbody tr th:only-of-type {\n",
       "        vertical-align: middle;\n",
       "    }\n",
       "\n",
       "    .dataframe tbody tr th {\n",
       "        vertical-align: top;\n",
       "    }\n",
       "\n",
       "    .dataframe thead th {\n",
       "        text-align: right;\n",
       "    }\n",
       "</style>\n",
       "<table border=\"1\" class=\"dataframe\">\n",
       "  <thead>\n",
       "    <tr style=\"text-align: right;\">\n",
       "      <th></th>\n",
       "      <th>category</th>\n",
       "      <th>avg_rating_filtered</th>\n",
       "      <th>total_reviews_filtered</th>\n",
       "      <th>avg_rating_original</th>\n",
       "      <th>total_reviews_original</th>\n",
       "      <th>avg_rating_diff</th>\n",
       "      <th>total_reviews_diff</th>\n",
       "    </tr>\n",
       "  </thead>\n",
       "  <tbody>\n",
       "    <tr>\n",
       "      <th>88</th>\n",
       "      <td>society-culture</td>\n",
       "      <td>4.546932</td>\n",
       "      <td>441724</td>\n",
       "      <td>4.546984</td>\n",
       "      <td>441874</td>\n",
       "      <td>-5.196096e-05</td>\n",
       "      <td>-150</td>\n",
       "    </tr>\n",
       "    <tr>\n",
       "      <th>17</th>\n",
       "      <td>business</td>\n",
       "      <td>4.839395</td>\n",
       "      <td>209987</td>\n",
       "      <td>4.839410</td>\n",
       "      <td>210081</td>\n",
       "      <td>-1.474139e-05</td>\n",
       "      <td>-94</td>\n",
       "    </tr>\n",
       "    <tr>\n",
       "      <th>29</th>\n",
       "      <td>education</td>\n",
       "      <td>4.814051</td>\n",
       "      <td>221738</td>\n",
       "      <td>4.813994</td>\n",
       "      <td>221831</td>\n",
       "      <td>5.728111e-05</td>\n",
       "      <td>-93</td>\n",
       "    </tr>\n",
       "    <tr>\n",
       "      <th>81</th>\n",
       "      <td>sports</td>\n",
       "      <td>4.612139</td>\n",
       "      <td>175617</td>\n",
       "      <td>4.612251</td>\n",
       "      <td>175709</td>\n",
       "      <td>-1.120217e-04</td>\n",
       "      <td>-92</td>\n",
       "    </tr>\n",
       "    <tr>\n",
       "      <th>78</th>\n",
       "      <td>comedy</td>\n",
       "      <td>4.623424</td>\n",
       "      <td>350763</td>\n",
       "      <td>4.623424</td>\n",
       "      <td>350848</td>\n",
       "      <td>-2.558821e-08</td>\n",
       "      <td>-85</td>\n",
       "    </tr>\n",
       "    <tr>\n",
       "      <th>...</th>\n",
       "      <td>...</td>\n",
       "      <td>...</td>\n",
       "      <td>...</td>\n",
       "      <td>...</td>\n",
       "      <td>...</td>\n",
       "      <td>...</td>\n",
       "      <td>...</td>\n",
       "    </tr>\n",
       "    <tr>\n",
       "      <th>71</th>\n",
       "      <td>education-language-learning</td>\n",
       "      <td>4.668225</td>\n",
       "      <td>5347</td>\n",
       "      <td>4.668225</td>\n",
       "      <td>5347</td>\n",
       "      <td>0.000000e+00</td>\n",
       "      <td>0</td>\n",
       "    </tr>\n",
       "    <tr>\n",
       "      <th>72</th>\n",
       "      <td>news-entertainment-news</td>\n",
       "      <td>4.654457</td>\n",
       "      <td>23751</td>\n",
       "      <td>4.654457</td>\n",
       "      <td>23751</td>\n",
       "      <td>0.000000e+00</td>\n",
       "      <td>0</td>\n",
       "    </tr>\n",
       "    <tr>\n",
       "      <th>76</th>\n",
       "      <td>science-physics</td>\n",
       "      <td>4.635776</td>\n",
       "      <td>464</td>\n",
       "      <td>4.635776</td>\n",
       "      <td>464</td>\n",
       "      <td>0.000000e+00</td>\n",
       "      <td>0</td>\n",
       "    </tr>\n",
       "    <tr>\n",
       "      <th>37</th>\n",
       "      <td>sports-cricket</td>\n",
       "      <td>4.797619</td>\n",
       "      <td>84</td>\n",
       "      <td>4.797619</td>\n",
       "      <td>84</td>\n",
       "      <td>0.000000e+00</td>\n",
       "      <td>0</td>\n",
       "    </tr>\n",
       "    <tr>\n",
       "      <th>54</th>\n",
       "      <td>science-mathematics</td>\n",
       "      <td>4.753086</td>\n",
       "      <td>162</td>\n",
       "      <td>4.753086</td>\n",
       "      <td>162</td>\n",
       "      <td>0.000000e+00</td>\n",
       "      <td>0</td>\n",
       "    </tr>\n",
       "  </tbody>\n",
       "</table>\n",
       "<p>110 rows × 7 columns</p>\n",
       "</div>"
      ],
      "text/plain": [
       "                       category  avg_rating_filtered  total_reviews_filtered  \\\n",
       "88              society-culture             4.546932                  441724   \n",
       "17                     business             4.839395                  209987   \n",
       "29                    education             4.814051                  221738   \n",
       "81                       sports             4.612139                  175617   \n",
       "78                       comedy             4.623424                  350763   \n",
       "..                          ...                  ...                     ...   \n",
       "71  education-language-learning             4.668225                    5347   \n",
       "72      news-entertainment-news             4.654457                   23751   \n",
       "76              science-physics             4.635776                     464   \n",
       "37               sports-cricket             4.797619                      84   \n",
       "54          science-mathematics             4.753086                     162   \n",
       "\n",
       "    avg_rating_original  total_reviews_original  avg_rating_diff  \\\n",
       "88             4.546984                  441874    -5.196096e-05   \n",
       "17             4.839410                  210081    -1.474139e-05   \n",
       "29             4.813994                  221831     5.728111e-05   \n",
       "81             4.612251                  175709    -1.120217e-04   \n",
       "78             4.623424                  350848    -2.558821e-08   \n",
       "..                  ...                     ...              ...   \n",
       "71             4.668225                    5347     0.000000e+00   \n",
       "72             4.654457                   23751     0.000000e+00   \n",
       "76             4.635776                     464     0.000000e+00   \n",
       "37             4.797619                      84     0.000000e+00   \n",
       "54             4.753086                     162     0.000000e+00   \n",
       "\n",
       "    total_reviews_diff  \n",
       "88                -150  \n",
       "17                 -94  \n",
       "29                 -93  \n",
       "81                 -92  \n",
       "78                 -85  \n",
       "..                 ...  \n",
       "71                   0  \n",
       "72                   0  \n",
       "76                   0  \n",
       "37                   0  \n",
       "54                   0  \n",
       "\n",
       "[110 rows x 7 columns]"
      ]
     },
     "execution_count": 34,
     "metadata": {},
     "output_type": "execute_result"
    }
   ],
   "source": [
    "category_stats_filtered"
   ]
  },
  {
   "cell_type": "markdown",
   "id": "ac43b977",
   "metadata": {},
   "source": [
    "No category had their average rating changed in more than 0.01 due to the bot reviews."
   ]
  },
  {
   "cell_type": "code",
   "execution_count": 35,
   "id": "cfe261f8",
   "metadata": {},
   "outputs": [
    {
     "data": {
      "text/html": [
       "<div>\n",
       "<style scoped>\n",
       "    .dataframe tbody tr th:only-of-type {\n",
       "        vertical-align: middle;\n",
       "    }\n",
       "\n",
       "    .dataframe tbody tr th {\n",
       "        vertical-align: top;\n",
       "    }\n",
       "\n",
       "    .dataframe thead th {\n",
       "        text-align: right;\n",
       "    }\n",
       "</style>\n",
       "<table border=\"1\" class=\"dataframe\">\n",
       "  <thead>\n",
       "    <tr style=\"text-align: right;\">\n",
       "      <th></th>\n",
       "      <th>category</th>\n",
       "      <th>avg_rating_filtered</th>\n",
       "      <th>total_reviews_filtered</th>\n",
       "      <th>avg_rating_original</th>\n",
       "      <th>total_reviews_original</th>\n",
       "      <th>avg_rating_diff</th>\n",
       "      <th>total_reviews_diff</th>\n",
       "    </tr>\n",
       "  </thead>\n",
       "  <tbody>\n",
       "    <tr>\n",
       "      <th>88</th>\n",
       "      <td>society-culture</td>\n",
       "      <td>4.546932</td>\n",
       "      <td>441724</td>\n",
       "      <td>4.546984</td>\n",
       "      <td>441874</td>\n",
       "      <td>-0.000052</td>\n",
       "      <td>-150</td>\n",
       "    </tr>\n",
       "    <tr>\n",
       "      <th>29</th>\n",
       "      <td>education</td>\n",
       "      <td>4.814051</td>\n",
       "      <td>221738</td>\n",
       "      <td>4.813994</td>\n",
       "      <td>221831</td>\n",
       "      <td>0.000057</td>\n",
       "      <td>-93</td>\n",
       "    </tr>\n",
       "  </tbody>\n",
       "</table>\n",
       "</div>"
      ],
      "text/plain": [
       "           category  avg_rating_filtered  total_reviews_filtered  \\\n",
       "88  society-culture             4.546932                  441724   \n",
       "29        education             4.814051                  221738   \n",
       "\n",
       "    avg_rating_original  total_reviews_original  avg_rating_diff  \\\n",
       "88             4.546984                  441874        -0.000052   \n",
       "29             4.813994                  221831         0.000057   \n",
       "\n",
       "    total_reviews_diff  \n",
       "88                -150  \n",
       "29                 -93  "
      ]
     },
     "execution_count": 35,
     "metadata": {},
     "output_type": "execute_result"
    }
   ],
   "source": [
    "# Show the data for the desided categories\n",
    "category_stats_filtered[category_stats_filtered['category'].isin(['society-culture','education'])]"
   ]
  },
  {
   "cell_type": "markdown",
   "id": "7e588b9e",
   "metadata": {},
   "source": [
    "For the studied categories this value was only changed minimaly."
   ]
  },
  {
   "cell_type": "markdown",
   "id": "9a4ce2a2",
   "metadata": {},
   "source": [
    "<h2 style=\"color:#003F7D\">Statistical significance</h2>"
   ]
  },
  {
   "cell_type": "markdown",
   "id": "d04e43cb",
   "metadata": {},
   "source": [
    "Again our research question:\n",
    "\n",
    "<p style=\"color:#003F7D; font-size: 1.1em; text-align: center; background:#eaf4ff; color:#003F7D\">\"Are there significant differences in ratings between the top two categories with the highest number of podcasts, namely 'society-culture' and 'education'?\" </p>"
   ]
  },
  {
   "cell_type": "markdown",
   "id": "61170d4f",
   "metadata": {},
   "source": [
    "<h3 style=\"color:#003F7D\">Formulating hypothesis</h3>"
   ]
  },
  {
   "cell_type": "markdown",
   "id": "93927059",
   "metadata": {
    "scrolled": true
   },
   "source": [
    "* Category 1:`'society-culture'`\n",
    "* Category 2:`'education'`\n",
    "\n",
    "$$H_0: p_1 = p_2$$\n",
    "$$H_a: p_1 \\ne p_2$$\n",
    "\n",
    "where $p_1$ and $p_2$ stand for the average rating for the categories society-culture and education, respectively. We'll also set a **confidence level of 95%**:\n",
    "\n",
    "$$\\alpha = 0.05$$\n",
    "\n",
    "The $\\alpha$ value is a threshold we set, by which we say \"if the probability of observing a result as extreme or more ($p$-value) is lower than $\\alpha$, then we reject the null hypothesis\". Since our $\\alpha=0.05$ (indicating 5% probability), our confidence (1 - $\\alpha$) is 95%.\n",
    "\n",
    "\n",
    "As our data (rating) is categorical, we will perform a **chi-squared test** to check our hypothesis."
   ]
  },
  {
   "cell_type": "markdown",
   "id": "b7287b9f",
   "metadata": {},
   "source": [
    "<h3 style=\"color:#003F7D\">Preparing data</h3>"
   ]
  },
  {
   "cell_type": "code",
   "execution_count": 36,
   "id": "68593f73",
   "metadata": {},
   "outputs": [
    {
     "data": {
      "text/html": [
       "<div>\n",
       "<style scoped>\n",
       "    .dataframe tbody tr th:only-of-type {\n",
       "        vertical-align: middle;\n",
       "    }\n",
       "\n",
       "    .dataframe tbody tr th {\n",
       "        vertical-align: top;\n",
       "    }\n",
       "\n",
       "    .dataframe thead th {\n",
       "        text-align: right;\n",
       "    }\n",
       "</style>\n",
       "<table border=\"1\" class=\"dataframe\">\n",
       "  <thead>\n",
       "    <tr style=\"text-align: right;\">\n",
       "      <th></th>\n",
       "      <th>podcast_id</th>\n",
       "      <th>title</th>\n",
       "      <th>content</th>\n",
       "      <th>rating</th>\n",
       "      <th>author_id</th>\n",
       "      <th>created_at</th>\n",
       "      <th>podcast_title</th>\n",
       "      <th>categories</th>\n",
       "    </tr>\n",
       "  </thead>\n",
       "  <tbody>\n",
       "    <tr>\n",
       "      <th>2</th>\n",
       "      <td>ad4f2bf69c72b8db75978423c25f379e</td>\n",
       "      <td>nauseatingly left</td>\n",
       "      <td>I'm a liberal myself, but its pretty obvious a...</td>\n",
       "      <td>1</td>\n",
       "      <td>1AB95B8E6E1309E</td>\n",
       "      <td>2019-06-11 14:53:39-07:00</td>\n",
       "      <td>TED Talks Daily</td>\n",
       "      <td>education</td>\n",
       "    </tr>\n",
       "    <tr>\n",
       "      <th>2</th>\n",
       "      <td>ad4f2bf69c72b8db75978423c25f379e</td>\n",
       "      <td>nauseatingly left</td>\n",
       "      <td>I'm a liberal myself, but its pretty obvious a...</td>\n",
       "      <td>1</td>\n",
       "      <td>1AB95B8E6E1309E</td>\n",
       "      <td>2019-06-11 14:53:39-07:00</td>\n",
       "      <td>TED Talks Daily</td>\n",
       "      <td>society-culture</td>\n",
       "    </tr>\n",
       "    <tr>\n",
       "      <th>3</th>\n",
       "      <td>ad4f2bf69c72b8db75978423c25f379e</td>\n",
       "      <td>Diverse stories</td>\n",
       "      <td>I find Tedx talks very inspirational but I oft...</td>\n",
       "      <td>5</td>\n",
       "      <td>11BB760AA5DEBD1</td>\n",
       "      <td>2018-05-31 13:08:09-07:00</td>\n",
       "      <td>TED Talks Daily</td>\n",
       "      <td>education</td>\n",
       "    </tr>\n",
       "    <tr>\n",
       "      <th>3</th>\n",
       "      <td>ad4f2bf69c72b8db75978423c25f379e</td>\n",
       "      <td>Diverse stories</td>\n",
       "      <td>I find Tedx talks very inspirational but I oft...</td>\n",
       "      <td>5</td>\n",
       "      <td>11BB760AA5DEBD1</td>\n",
       "      <td>2018-05-31 13:08:09-07:00</td>\n",
       "      <td>TED Talks Daily</td>\n",
       "      <td>society-culture</td>\n",
       "    </tr>\n",
       "    <tr>\n",
       "      <th>4</th>\n",
       "      <td>ad4f2bf69c72b8db75978423c25f379e</td>\n",
       "      <td>👍👍👍👍</td>\n",
       "      <td>I love this podcast, it is so good.</td>\n",
       "      <td>5</td>\n",
       "      <td>D86032C8E57D15A</td>\n",
       "      <td>2019-06-19 13:56:05-07:00</td>\n",
       "      <td>TED Talks Daily</td>\n",
       "      <td>education</td>\n",
       "    </tr>\n",
       "  </tbody>\n",
       "</table>\n",
       "</div>"
      ],
      "text/plain": [
       "                         podcast_id              title  \\\n",
       "2  ad4f2bf69c72b8db75978423c25f379e  nauseatingly left   \n",
       "2  ad4f2bf69c72b8db75978423c25f379e  nauseatingly left   \n",
       "3  ad4f2bf69c72b8db75978423c25f379e    Diverse stories   \n",
       "3  ad4f2bf69c72b8db75978423c25f379e    Diverse stories   \n",
       "4  ad4f2bf69c72b8db75978423c25f379e               👍👍👍👍   \n",
       "\n",
       "                                             content  rating        author_id  \\\n",
       "2  I'm a liberal myself, but its pretty obvious a...       1  1AB95B8E6E1309E   \n",
       "2  I'm a liberal myself, but its pretty obvious a...       1  1AB95B8E6E1309E   \n",
       "3  I find Tedx talks very inspirational but I oft...       5  11BB760AA5DEBD1   \n",
       "3  I find Tedx talks very inspirational but I oft...       5  11BB760AA5DEBD1   \n",
       "4                I love this podcast, it is so good.       5  D86032C8E57D15A   \n",
       "\n",
       "                 created_at    podcast_title       categories  \n",
       "2 2019-06-11 14:53:39-07:00  TED Talks Daily        education  \n",
       "2 2019-06-11 14:53:39-07:00  TED Talks Daily  society-culture  \n",
       "3 2018-05-31 13:08:09-07:00  TED Talks Daily        education  \n",
       "3 2018-05-31 13:08:09-07:00  TED Talks Daily  society-culture  \n",
       "4 2019-06-19 13:56:05-07:00  TED Talks Daily        education  "
      ]
     },
     "execution_count": 36,
     "metadata": {},
     "output_type": "execute_result"
    }
   ],
   "source": [
    "# Separation of the data only for the desired categories\n",
    "goal_categories = filtered_reviews_exploded[filtered_reviews_exploded['categories'].isin(['society-culture','education'])]\n",
    "goal_categories.head(5)"
   ]
  },
  {
   "cell_type": "markdown",
   "id": "94f86e64",
   "metadata": {},
   "source": [
    "As we see, some of the podcasts belong to both of the chosen categories. To further analyse an avoid effects of one population on the other, we will keep only the podcasts that don't belong to both categories."
   ]
  },
  {
   "cell_type": "code",
   "execution_count": 37,
   "id": "75d5aef0",
   "metadata": {},
   "outputs": [
    {
     "data": {
      "text/plain": [
       "(9038, 8)"
      ]
     },
     "execution_count": 37,
     "metadata": {},
     "output_type": "execute_result"
    }
   ],
   "source": [
    "# Get all of the podcasts belonging to both categories\n",
    "duplicated_podcasts = goal_categories[goal_categories['podcast_id'].duplicated()]['podcast_id']\n",
    "\n",
    "# keep only the ones exclusively belonging to one category\n",
    "goal_categories_cleaned = goal_categories[~goal_categories['podcast_id'].isin(duplicated_podcasts)]\n",
    "goal_categories_cleaned.shape"
   ]
  },
  {
   "cell_type": "code",
   "execution_count": 38,
   "id": "713c15b9",
   "metadata": {},
   "outputs": [
    {
     "data": {
      "text/plain": [
       "categories\n",
       "education          3652\n",
       "society-culture    5386\n",
       "dtype: int64"
      ]
     },
     "execution_count": 38,
     "metadata": {},
     "output_type": "execute_result"
    }
   ],
   "source": [
    "goal_categories_cleaned.groupby('categories').size()"
   ]
  },
  {
   "cell_type": "code",
   "execution_count": 39,
   "id": "f55c20d5",
   "metadata": {},
   "outputs": [
    {
     "name": "stdout",
     "output_type": "stream",
     "text": [
      "The statistical evaluated data for Category 1 represents 1.65%\n",
      "\n",
      "The statistical evaluated data for Category 2 represents 1.22%\n"
     ]
    }
   ],
   "source": [
    "prop_removed_data1 = goal_categories_cleaned.groupby('categories').size()[0]/goal_categories.groupby('categories').size()[0]\n",
    "prop_removed_data2 = goal_categories_cleaned.groupby('categories').size()[1]/goal_categories.groupby('categories').size()[1]\n",
    "\n",
    "print(f\"The statistical evaluated data for Category 1 represents {prop_removed_data1*100:.2f}%\\n\")\n",
    "print(f\"The statistical evaluated data for Category 2 represents {prop_removed_data2*100:.2f}%\")"
   ]
  },
  {
   "cell_type": "code",
   "execution_count": 40,
   "id": "caedacd3",
   "metadata": {},
   "outputs": [
    {
     "data": {
      "text/html": [
       "<div>\n",
       "<style scoped>\n",
       "    .dataframe tbody tr th:only-of-type {\n",
       "        vertical-align: middle;\n",
       "    }\n",
       "\n",
       "    .dataframe tbody tr th {\n",
       "        vertical-align: top;\n",
       "    }\n",
       "\n",
       "    .dataframe thead th {\n",
       "        text-align: right;\n",
       "    }\n",
       "</style>\n",
       "<table border=\"1\" class=\"dataframe\">\n",
       "  <thead>\n",
       "    <tr style=\"text-align: right;\">\n",
       "      <th></th>\n",
       "      <th>rating</th>\n",
       "    </tr>\n",
       "  </thead>\n",
       "  <tbody>\n",
       "    <tr>\n",
       "      <th>count</th>\n",
       "      <td>5386.000000</td>\n",
       "    </tr>\n",
       "    <tr>\n",
       "      <th>mean</th>\n",
       "      <td>4.853323</td>\n",
       "    </tr>\n",
       "    <tr>\n",
       "      <th>std</th>\n",
       "      <td>0.648994</td>\n",
       "    </tr>\n",
       "    <tr>\n",
       "      <th>min</th>\n",
       "      <td>1.000000</td>\n",
       "    </tr>\n",
       "    <tr>\n",
       "      <th>25%</th>\n",
       "      <td>5.000000</td>\n",
       "    </tr>\n",
       "    <tr>\n",
       "      <th>50%</th>\n",
       "      <td>5.000000</td>\n",
       "    </tr>\n",
       "    <tr>\n",
       "      <th>75%</th>\n",
       "      <td>5.000000</td>\n",
       "    </tr>\n",
       "    <tr>\n",
       "      <th>max</th>\n",
       "      <td>5.000000</td>\n",
       "    </tr>\n",
       "  </tbody>\n",
       "</table>\n",
       "</div>"
      ],
      "text/plain": [
       "            rating\n",
       "count  5386.000000\n",
       "mean      4.853323\n",
       "std       0.648994\n",
       "min       1.000000\n",
       "25%       5.000000\n",
       "50%       5.000000\n",
       "75%       5.000000\n",
       "max       5.000000"
      ]
     },
     "execution_count": 40,
     "metadata": {},
     "output_type": "execute_result"
    }
   ],
   "source": [
    "# stored of the desired data in a simplified dataframe\n",
    "df1 = goal_categories_cleaned.loc[goal_categories_cleaned['categories'] == 'society-culture', ['podcast_id', 'rating']]\n",
    "df1.describe()"
   ]
  },
  {
   "cell_type": "code",
   "execution_count": 41,
   "id": "2aa0328b",
   "metadata": {},
   "outputs": [
    {
     "data": {
      "text/html": [
       "<div>\n",
       "<style scoped>\n",
       "    .dataframe tbody tr th:only-of-type {\n",
       "        vertical-align: middle;\n",
       "    }\n",
       "\n",
       "    .dataframe tbody tr th {\n",
       "        vertical-align: top;\n",
       "    }\n",
       "\n",
       "    .dataframe thead th {\n",
       "        text-align: right;\n",
       "    }\n",
       "</style>\n",
       "<table border=\"1\" class=\"dataframe\">\n",
       "  <thead>\n",
       "    <tr style=\"text-align: right;\">\n",
       "      <th></th>\n",
       "      <th>rating</th>\n",
       "    </tr>\n",
       "  </thead>\n",
       "  <tbody>\n",
       "    <tr>\n",
       "      <th>count</th>\n",
       "      <td>3652.000000</td>\n",
       "    </tr>\n",
       "    <tr>\n",
       "      <th>mean</th>\n",
       "      <td>4.806681</td>\n",
       "    </tr>\n",
       "    <tr>\n",
       "      <th>std</th>\n",
       "      <td>0.749969</td>\n",
       "    </tr>\n",
       "    <tr>\n",
       "      <th>min</th>\n",
       "      <td>1.000000</td>\n",
       "    </tr>\n",
       "    <tr>\n",
       "      <th>25%</th>\n",
       "      <td>5.000000</td>\n",
       "    </tr>\n",
       "    <tr>\n",
       "      <th>50%</th>\n",
       "      <td>5.000000</td>\n",
       "    </tr>\n",
       "    <tr>\n",
       "      <th>75%</th>\n",
       "      <td>5.000000</td>\n",
       "    </tr>\n",
       "    <tr>\n",
       "      <th>max</th>\n",
       "      <td>5.000000</td>\n",
       "    </tr>\n",
       "  </tbody>\n",
       "</table>\n",
       "</div>"
      ],
      "text/plain": [
       "            rating\n",
       "count  3652.000000\n",
       "mean      4.806681\n",
       "std       0.749969\n",
       "min       1.000000\n",
       "25%       5.000000\n",
       "50%       5.000000\n",
       "75%       5.000000\n",
       "max       5.000000"
      ]
     },
     "execution_count": 41,
     "metadata": {},
     "output_type": "execute_result"
    }
   ],
   "source": [
    "# stored of the desired data in a simplified dataframe\n",
    "df2 = goal_categories_cleaned.loc[goal_categories_cleaned['categories'] == 'education', ['podcast_id', 'rating']]\n",
    "df2.describe()"
   ]
  },
  {
   "cell_type": "code",
   "execution_count": 42,
   "id": "9605e4c7",
   "metadata": {},
   "outputs": [
    {
     "data": {
      "text/html": [
       "<div>\n",
       "<style scoped>\n",
       "    .dataframe tbody tr th:only-of-type {\n",
       "        vertical-align: middle;\n",
       "    }\n",
       "\n",
       "    .dataframe tbody tr th {\n",
       "        vertical-align: top;\n",
       "    }\n",
       "\n",
       "    .dataframe thead th {\n",
       "        text-align: right;\n",
       "    }\n",
       "</style>\n",
       "<table border=\"1\" class=\"dataframe\">\n",
       "  <thead>\n",
       "    <tr style=\"text-align: right;\">\n",
       "      <th></th>\n",
       "      <th>podcast_id</th>\n",
       "      <th>rating</th>\n",
       "    </tr>\n",
       "  </thead>\n",
       "  <tbody>\n",
       "    <tr>\n",
       "      <th>11381</th>\n",
       "      <td>ebd3c5a59c3f95d1d0c698bd99280c46</td>\n",
       "      <td>5</td>\n",
       "    </tr>\n",
       "    <tr>\n",
       "      <th>12002</th>\n",
       "      <td>ba8281062d196fff796551bc634ea660</td>\n",
       "      <td>5</td>\n",
       "    </tr>\n",
       "    <tr>\n",
       "      <th>12521</th>\n",
       "      <td>b468334d4872bf11fd443988a8bd5175</td>\n",
       "      <td>5</td>\n",
       "    </tr>\n",
       "    <tr>\n",
       "      <th>12898</th>\n",
       "      <td>e3553a2ec44db21fb4288d31b46e4d94</td>\n",
       "      <td>5</td>\n",
       "    </tr>\n",
       "    <tr>\n",
       "      <th>12998</th>\n",
       "      <td>af52d87cdbdaac0f8579cc100a747b6d</td>\n",
       "      <td>5</td>\n",
       "    </tr>\n",
       "    <tr>\n",
       "      <th>...</th>\n",
       "      <td>...</td>\n",
       "      <td>...</td>\n",
       "    </tr>\n",
       "    <tr>\n",
       "      <th>1868492</th>\n",
       "      <td>ffdf165106c6b77152506b63ad733b54</td>\n",
       "      <td>4</td>\n",
       "    </tr>\n",
       "    <tr>\n",
       "      <th>1869078</th>\n",
       "      <td>fffd11eb87de4d586f13627622e4e6dd</td>\n",
       "      <td>5</td>\n",
       "    </tr>\n",
       "    <tr>\n",
       "      <th>1869083</th>\n",
       "      <td>ffff09ad9a175a57b1bbbdb3c1581ec0</td>\n",
       "      <td>5</td>\n",
       "    </tr>\n",
       "    <tr>\n",
       "      <th>1919195</th>\n",
       "      <td>a8478d40f60e53c206f312351c576037</td>\n",
       "      <td>3</td>\n",
       "    </tr>\n",
       "    <tr>\n",
       "      <th>1930915</th>\n",
       "      <td>f4df5aa77fbbfb04be9d9e4ccca0d560</td>\n",
       "      <td>5</td>\n",
       "    </tr>\n",
       "  </tbody>\n",
       "</table>\n",
       "<p>5386 rows × 2 columns</p>\n",
       "</div>"
      ],
      "text/plain": [
       "                               podcast_id  rating\n",
       "11381    ebd3c5a59c3f95d1d0c698bd99280c46       5\n",
       "12002    ba8281062d196fff796551bc634ea660       5\n",
       "12521    b468334d4872bf11fd443988a8bd5175       5\n",
       "12898    e3553a2ec44db21fb4288d31b46e4d94       5\n",
       "12998    af52d87cdbdaac0f8579cc100a747b6d       5\n",
       "...                                   ...     ...\n",
       "1868492  ffdf165106c6b77152506b63ad733b54       4\n",
       "1869078  fffd11eb87de4d586f13627622e4e6dd       5\n",
       "1869083  ffff09ad9a175a57b1bbbdb3c1581ec0       5\n",
       "1919195  a8478d40f60e53c206f312351c576037       3\n",
       "1930915  f4df5aa77fbbfb04be9d9e4ccca0d560       5\n",
       "\n",
       "[5386 rows x 2 columns]"
      ]
     },
     "execution_count": 42,
     "metadata": {},
     "output_type": "execute_result"
    }
   ],
   "source": [
    "df1"
   ]
  },
  {
   "cell_type": "code",
   "execution_count": 43,
   "id": "fa3656fe",
   "metadata": {},
   "outputs": [
    {
     "name": "stdout",
     "output_type": "stream",
     "text": [
      "Category 1 - society-culture: 4.853 +- 0.649; 5386 samples\n",
      "Rating interval:              (4.204 , 5.000)\n",
      "\n",
      "Category 2 - education: 4.807 +- 0.750; 3652 samples\n",
      "Rating interval:              (4.057 , 5.000)\n",
      "\n",
      "Best point estimate: 0.047\n"
     ]
    }
   ],
   "source": [
    "p1 = df1['rating'].mean()\n",
    "std1 = df1['rating'].std()\n",
    "n1 = df1.shape[0]\n",
    "print(f\"Category 1 - society-culture: {p1:.3f} +- {std1:.3f}; {n1} samples\")\n",
    "print(f\"Rating interval:              ({p1 - std1:.3f} , {5:.3f})\\n\")\n",
    "\n",
    "p2 = df2['rating'].mean()\n",
    "std2 = df2['rating'].std()\n",
    "n2 = df2.shape[0]\n",
    "print(f\"Category 2 - education: {p2:.3f} +- {std2:.3f}; {n2} samples\")\n",
    "print(f\"Rating interval:              ({p2 - std2:.3f} , {5:.3f})\\n\")\n",
    "print(f\"Best point estimate: {p1-p2:.3f}\")"
   ]
  },
  {
   "cell_type": "markdown",
   "id": "8977df8b",
   "metadata": {},
   "source": [
    "The average rating for all the podcast exclusively in the category \"society-culture\" is 0.047 higher than for the ones exclusively in \"education\"."
   ]
  },
  {
   "cell_type": "markdown",
   "id": "dc351364",
   "metadata": {},
   "source": [
    "<h3 style=\"color:#003F7D\">Assumptions</h3>"
   ]
  },
  {
   "cell_type": "markdown",
   "id": "9a025000",
   "metadata": {},
   "source": [
    "The chi-square test evaluates the independence or association between two categorical variables by comparing the observed frequencies in a contingency table to the expected frequencies under the assumption of independence. It is a non-parametric test that is suitable for analyzing categorical data.\n",
    "\n",
    "For our studied categories, we removed all of the podcasts that belonged to both of the goal categories, so the independancy of the populations can be assumed."
   ]
  },
  {
   "cell_type": "markdown",
   "id": "549ecadd",
   "metadata": {},
   "source": [
    "<h3 style=\"color:#003F7D\">Chi-square test</h3>"
   ]
  },
  {
   "cell_type": "code",
   "execution_count": 44,
   "id": "1053382a",
   "metadata": {},
   "outputs": [
    {
     "data": {
      "text/html": [
       "<div>\n",
       "<style scoped>\n",
       "    .dataframe tbody tr th:only-of-type {\n",
       "        vertical-align: middle;\n",
       "    }\n",
       "\n",
       "    .dataframe tbody tr th {\n",
       "        vertical-align: top;\n",
       "    }\n",
       "\n",
       "    .dataframe thead th {\n",
       "        text-align: right;\n",
       "    }\n",
       "</style>\n",
       "<table border=\"1\" class=\"dataframe\">\n",
       "  <thead>\n",
       "    <tr style=\"text-align: right;\">\n",
       "      <th>col_0</th>\n",
       "      <th>count_df1</th>\n",
       "      <th>count_df2</th>\n",
       "    </tr>\n",
       "    <tr>\n",
       "      <th>rating</th>\n",
       "      <th></th>\n",
       "      <th></th>\n",
       "    </tr>\n",
       "  </thead>\n",
       "  <tbody>\n",
       "    <tr>\n",
       "      <th>1</th>\n",
       "      <td>110</td>\n",
       "      <td>102</td>\n",
       "    </tr>\n",
       "    <tr>\n",
       "      <th>2</th>\n",
       "      <td>30</td>\n",
       "      <td>27</td>\n",
       "    </tr>\n",
       "    <tr>\n",
       "      <th>3</th>\n",
       "      <td>47</td>\n",
       "      <td>49</td>\n",
       "    </tr>\n",
       "    <tr>\n",
       "      <th>4</th>\n",
       "      <td>166</td>\n",
       "      <td>119</td>\n",
       "    </tr>\n",
       "    <tr>\n",
       "      <th>5</th>\n",
       "      <td>5033</td>\n",
       "      <td>3355</td>\n",
       "    </tr>\n",
       "  </tbody>\n",
       "</table>\n",
       "</div>"
      ],
      "text/plain": [
       "col_0   count_df1  count_df2\n",
       "rating                      \n",
       "1             110        102\n",
       "2              30         27\n",
       "3              47         49\n",
       "4             166        119\n",
       "5            5033       3355"
      ]
     },
     "execution_count": 44,
     "metadata": {},
     "output_type": "execute_result"
    }
   ],
   "source": [
    "# Creation of the pivot table for use in the test\n",
    "cont_table1 = pd.crosstab(index=df1['rating'], columns='count').rename(columns={'count':'count_df1'})\n",
    "cont_table2 = pd.crosstab(index=df2['rating'], columns='count').rename(columns={'count':'count_df2'})\n",
    "contingency_table = cont_table1.join(cont_table2)\n",
    "contingency_table"
   ]
  },
  {
   "cell_type": "code",
   "execution_count": 45,
   "id": "f213dab8",
   "metadata": {},
   "outputs": [
    {
     "name": "stdout",
     "output_type": "stream",
     "text": [
      "Chi-square statistic: 11.683030803557628\n",
      "p-value: 0.01987075661836664\n",
      "Degrees of freedom: 4\n",
      "Expected frequencies:\n",
      " [[ 126.33680018   85.66319982]\n",
      " [  33.96791326   23.03208674]\n",
      " [  57.20911706   38.79088294]\n",
      " [ 169.83956628  115.16043372]\n",
      " [4998.64660323 3389.35339677]]\n"
     ]
    }
   ],
   "source": [
    "# Carring out the test\n",
    "chi2, p_value, dof, expected = chi2_contingency(contingency_table)\n",
    "\n",
    "print(\"Chi-square statistic:\", chi2)\n",
    "print(\"p-value:\", p_value)\n",
    "print(\"Degrees of freedom:\", dof)\n",
    "print(\"Expected frequencies:\\n\", expected)"
   ]
  },
  {
   "cell_type": "markdown",
   "id": "8d2df5c9",
   "metadata": {},
   "source": [
    "$$p-value = 0.02    <   \\alpha = 0.05$$\n",
    "\n",
    "That means that for out confidence interval of 95% we have enough evidence to reject the null hypothesis ($H_0$).\n",
    "\n",
    "So **the mean of the categories 'society-culture' and 'education' is statistically different**."
   ]
  },
  {
   "cell_type": "markdown",
   "id": "ba586afe",
   "metadata": {},
   "source": [
    "<h2 style=\"color:#003F7D\">Statistical significance with Dependent Data</h2>"
   ]
  },
  {
   "cell_type": "markdown",
   "id": "a446a90b",
   "metadata": {},
   "source": [
    "Something interesting from this analysis would be to identify the generated results if the intersected data would not have been removed. This is performed as follows."
   ]
  },
  {
   "cell_type": "markdown",
   "id": "804f68c6",
   "metadata": {},
   "source": [
    "<h3 style=\"color:#003F7D\">Preparing data</h3>"
   ]
  },
  {
   "cell_type": "code",
   "execution_count": 46,
   "id": "7a9be63f",
   "metadata": {},
   "outputs": [
    {
     "data": {
      "text/html": [
       "<div>\n",
       "<style scoped>\n",
       "    .dataframe tbody tr th:only-of-type {\n",
       "        vertical-align: middle;\n",
       "    }\n",
       "\n",
       "    .dataframe tbody tr th {\n",
       "        vertical-align: top;\n",
       "    }\n",
       "\n",
       "    .dataframe thead th {\n",
       "        text-align: right;\n",
       "    }\n",
       "</style>\n",
       "<table border=\"1\" class=\"dataframe\">\n",
       "  <thead>\n",
       "    <tr style=\"text-align: right;\">\n",
       "      <th></th>\n",
       "      <th>podcast_id</th>\n",
       "      <th>title</th>\n",
       "      <th>content</th>\n",
       "      <th>rating</th>\n",
       "      <th>author_id</th>\n",
       "      <th>created_at</th>\n",
       "      <th>podcast_title</th>\n",
       "      <th>categories</th>\n",
       "    </tr>\n",
       "  </thead>\n",
       "  <tbody>\n",
       "    <tr>\n",
       "      <th>2</th>\n",
       "      <td>ad4f2bf69c72b8db75978423c25f379e</td>\n",
       "      <td>nauseatingly left</td>\n",
       "      <td>I'm a liberal myself, but its pretty obvious a...</td>\n",
       "      <td>1</td>\n",
       "      <td>1AB95B8E6E1309E</td>\n",
       "      <td>2019-06-11 14:53:39-07:00</td>\n",
       "      <td>TED Talks Daily</td>\n",
       "      <td>education</td>\n",
       "    </tr>\n",
       "    <tr>\n",
       "      <th>2</th>\n",
       "      <td>ad4f2bf69c72b8db75978423c25f379e</td>\n",
       "      <td>nauseatingly left</td>\n",
       "      <td>I'm a liberal myself, but its pretty obvious a...</td>\n",
       "      <td>1</td>\n",
       "      <td>1AB95B8E6E1309E</td>\n",
       "      <td>2019-06-11 14:53:39-07:00</td>\n",
       "      <td>TED Talks Daily</td>\n",
       "      <td>society-culture</td>\n",
       "    </tr>\n",
       "    <tr>\n",
       "      <th>3</th>\n",
       "      <td>ad4f2bf69c72b8db75978423c25f379e</td>\n",
       "      <td>Diverse stories</td>\n",
       "      <td>I find Tedx talks very inspirational but I oft...</td>\n",
       "      <td>5</td>\n",
       "      <td>11BB760AA5DEBD1</td>\n",
       "      <td>2018-05-31 13:08:09-07:00</td>\n",
       "      <td>TED Talks Daily</td>\n",
       "      <td>education</td>\n",
       "    </tr>\n",
       "    <tr>\n",
       "      <th>3</th>\n",
       "      <td>ad4f2bf69c72b8db75978423c25f379e</td>\n",
       "      <td>Diverse stories</td>\n",
       "      <td>I find Tedx talks very inspirational but I oft...</td>\n",
       "      <td>5</td>\n",
       "      <td>11BB760AA5DEBD1</td>\n",
       "      <td>2018-05-31 13:08:09-07:00</td>\n",
       "      <td>TED Talks Daily</td>\n",
       "      <td>society-culture</td>\n",
       "    </tr>\n",
       "    <tr>\n",
       "      <th>4</th>\n",
       "      <td>ad4f2bf69c72b8db75978423c25f379e</td>\n",
       "      <td>👍👍👍👍</td>\n",
       "      <td>I love this podcast, it is so good.</td>\n",
       "      <td>5</td>\n",
       "      <td>D86032C8E57D15A</td>\n",
       "      <td>2019-06-19 13:56:05-07:00</td>\n",
       "      <td>TED Talks Daily</td>\n",
       "      <td>education</td>\n",
       "    </tr>\n",
       "  </tbody>\n",
       "</table>\n",
       "</div>"
      ],
      "text/plain": [
       "                         podcast_id              title  \\\n",
       "2  ad4f2bf69c72b8db75978423c25f379e  nauseatingly left   \n",
       "2  ad4f2bf69c72b8db75978423c25f379e  nauseatingly left   \n",
       "3  ad4f2bf69c72b8db75978423c25f379e    Diverse stories   \n",
       "3  ad4f2bf69c72b8db75978423c25f379e    Diverse stories   \n",
       "4  ad4f2bf69c72b8db75978423c25f379e               👍👍👍👍   \n",
       "\n",
       "                                             content  rating        author_id  \\\n",
       "2  I'm a liberal myself, but its pretty obvious a...       1  1AB95B8E6E1309E   \n",
       "2  I'm a liberal myself, but its pretty obvious a...       1  1AB95B8E6E1309E   \n",
       "3  I find Tedx talks very inspirational but I oft...       5  11BB760AA5DEBD1   \n",
       "3  I find Tedx talks very inspirational but I oft...       5  11BB760AA5DEBD1   \n",
       "4                I love this podcast, it is so good.       5  D86032C8E57D15A   \n",
       "\n",
       "                 created_at    podcast_title       categories  \n",
       "2 2019-06-11 14:53:39-07:00  TED Talks Daily        education  \n",
       "2 2019-06-11 14:53:39-07:00  TED Talks Daily  society-culture  \n",
       "3 2018-05-31 13:08:09-07:00  TED Talks Daily        education  \n",
       "3 2018-05-31 13:08:09-07:00  TED Talks Daily  society-culture  \n",
       "4 2019-06-19 13:56:05-07:00  TED Talks Daily        education  "
      ]
     },
     "execution_count": 46,
     "metadata": {},
     "output_type": "execute_result"
    }
   ],
   "source": [
    "# So the base for this extra analysis will be the goal_categories data table\n",
    "goal_categories.head(5)"
   ]
  },
  {
   "cell_type": "code",
   "execution_count": 47,
   "id": "475b5bb6",
   "metadata": {},
   "outputs": [
    {
     "data": {
      "text/plain": [
       "categories\n",
       "education          221738\n",
       "society-culture    441724\n",
       "dtype: int64"
      ]
     },
     "execution_count": 47,
     "metadata": {},
     "output_type": "execute_result"
    }
   ],
   "source": [
    "goal_categories.groupby('categories').size()"
   ]
  },
  {
   "cell_type": "code",
   "execution_count": 48,
   "id": "1687015e",
   "metadata": {},
   "outputs": [
    {
     "data": {
      "text/html": [
       "<div>\n",
       "<style scoped>\n",
       "    .dataframe tbody tr th:only-of-type {\n",
       "        vertical-align: middle;\n",
       "    }\n",
       "\n",
       "    .dataframe tbody tr th {\n",
       "        vertical-align: top;\n",
       "    }\n",
       "\n",
       "    .dataframe thead th {\n",
       "        text-align: right;\n",
       "    }\n",
       "</style>\n",
       "<table border=\"1\" class=\"dataframe\">\n",
       "  <thead>\n",
       "    <tr style=\"text-align: right;\">\n",
       "      <th></th>\n",
       "      <th>rating</th>\n",
       "    </tr>\n",
       "  </thead>\n",
       "  <tbody>\n",
       "    <tr>\n",
       "      <th>count</th>\n",
       "      <td>441724.000000</td>\n",
       "    </tr>\n",
       "    <tr>\n",
       "      <th>mean</th>\n",
       "      <td>4.546932</td>\n",
       "    </tr>\n",
       "    <tr>\n",
       "      <th>std</th>\n",
       "      <td>1.141005</td>\n",
       "    </tr>\n",
       "    <tr>\n",
       "      <th>min</th>\n",
       "      <td>1.000000</td>\n",
       "    </tr>\n",
       "    <tr>\n",
       "      <th>25%</th>\n",
       "      <td>5.000000</td>\n",
       "    </tr>\n",
       "    <tr>\n",
       "      <th>50%</th>\n",
       "      <td>5.000000</td>\n",
       "    </tr>\n",
       "    <tr>\n",
       "      <th>75%</th>\n",
       "      <td>5.000000</td>\n",
       "    </tr>\n",
       "    <tr>\n",
       "      <th>max</th>\n",
       "      <td>5.000000</td>\n",
       "    </tr>\n",
       "  </tbody>\n",
       "</table>\n",
       "</div>"
      ],
      "text/plain": [
       "              rating\n",
       "count  441724.000000\n",
       "mean        4.546932\n",
       "std         1.141005\n",
       "min         1.000000\n",
       "25%         5.000000\n",
       "50%         5.000000\n",
       "75%         5.000000\n",
       "max         5.000000"
      ]
     },
     "execution_count": 48,
     "metadata": {},
     "output_type": "execute_result"
    }
   ],
   "source": [
    "# stored of the desired data in a simplified dataframe\n",
    "df1_dep = goal_categories.loc[goal_categories['categories'] == 'society-culture', ['podcast_id', 'rating']]\n",
    "df1_dep.describe()"
   ]
  },
  {
   "cell_type": "code",
   "execution_count": 49,
   "id": "cf744339",
   "metadata": {},
   "outputs": [
    {
     "data": {
      "text/html": [
       "<div>\n",
       "<style scoped>\n",
       "    .dataframe tbody tr th:only-of-type {\n",
       "        vertical-align: middle;\n",
       "    }\n",
       "\n",
       "    .dataframe tbody tr th {\n",
       "        vertical-align: top;\n",
       "    }\n",
       "\n",
       "    .dataframe thead th {\n",
       "        text-align: right;\n",
       "    }\n",
       "</style>\n",
       "<table border=\"1\" class=\"dataframe\">\n",
       "  <thead>\n",
       "    <tr style=\"text-align: right;\">\n",
       "      <th></th>\n",
       "      <th>rating</th>\n",
       "    </tr>\n",
       "  </thead>\n",
       "  <tbody>\n",
       "    <tr>\n",
       "      <th>count</th>\n",
       "      <td>221738.000000</td>\n",
       "    </tr>\n",
       "    <tr>\n",
       "      <th>mean</th>\n",
       "      <td>4.814051</td>\n",
       "    </tr>\n",
       "    <tr>\n",
       "      <th>std</th>\n",
       "      <td>0.746890</td>\n",
       "    </tr>\n",
       "    <tr>\n",
       "      <th>min</th>\n",
       "      <td>1.000000</td>\n",
       "    </tr>\n",
       "    <tr>\n",
       "      <th>25%</th>\n",
       "      <td>5.000000</td>\n",
       "    </tr>\n",
       "    <tr>\n",
       "      <th>50%</th>\n",
       "      <td>5.000000</td>\n",
       "    </tr>\n",
       "    <tr>\n",
       "      <th>75%</th>\n",
       "      <td>5.000000</td>\n",
       "    </tr>\n",
       "    <tr>\n",
       "      <th>max</th>\n",
       "      <td>5.000000</td>\n",
       "    </tr>\n",
       "  </tbody>\n",
       "</table>\n",
       "</div>"
      ],
      "text/plain": [
       "              rating\n",
       "count  221738.000000\n",
       "mean        4.814051\n",
       "std         0.746890\n",
       "min         1.000000\n",
       "25%         5.000000\n",
       "50%         5.000000\n",
       "75%         5.000000\n",
       "max         5.000000"
      ]
     },
     "execution_count": 49,
     "metadata": {},
     "output_type": "execute_result"
    }
   ],
   "source": [
    "# stored of the desired data in a simplified dataframe\n",
    "df2_dep = goal_categories.loc[goal_categories['categories'] == 'education', ['podcast_id', 'rating']]\n",
    "df2_dep.describe()"
   ]
  },
  {
   "cell_type": "code",
   "execution_count": 50,
   "id": "2d335011",
   "metadata": {},
   "outputs": [
    {
     "name": "stdout",
     "output_type": "stream",
     "text": [
      "Category 1 - society-culture: 4.547 +- 1.141; 441724 samples\n",
      "Rating interval:              (3.406 , 5.000)\n",
      "\n",
      "Category 2 - education: 4.814 +- 0.747; 221738 samples\n",
      "Rating interval:              (4.067 , 5.000)\n",
      "\n",
      "Best point estimate: -0.267\n"
     ]
    }
   ],
   "source": [
    "p1_dep = df1_dep['rating'].mean()\n",
    "std1_dep = df1_dep['rating'].std()\n",
    "n1_dep = df1_dep.shape[0]\n",
    "print(f\"Category 1 - society-culture: {p1_dep:.3f} +- {std1_dep:.3f}; {n1_dep} samples\")\n",
    "print(f\"Rating interval:              ({p1_dep - std1_dep:.3f} , {5:.3f})\\n\")\n",
    "\n",
    "p2_dep = df2_dep['rating'].mean()\n",
    "std2_dep = df2_dep['rating'].std()\n",
    "n2_dep = df2_dep.shape[0]\n",
    "print(f\"Category 2 - education: {p2_dep:.3f} +- {std2_dep:.3f}; {n2_dep} samples\")\n",
    "print(f\"Rating interval:              ({p2_dep - std2_dep:.3f} , {5:.3f})\\n\")\n",
    "print(f\"Best point estimate: {p1_dep-p2_dep:.3f}\")"
   ]
  },
  {
   "cell_type": "code",
   "execution_count": 51,
   "id": "4c5c9ddb",
   "metadata": {},
   "outputs": [
    {
     "name": "stdout",
     "output_type": "stream",
     "text": [
      "The mean value for Category 1 - society-culture changed in : 0.306\n",
      "The std value for Category 1 changed in : -0.492\n",
      "\n",
      "The mean value for Category 2 - education changed in : -0.007\n",
      "The std value for Category 1 changed in : 0.003\n"
     ]
    }
   ],
   "source": [
    "print(f\"The mean value for Category 1 - society-culture changed in : {p1 - p1_dep:.3f}\")\n",
    "print(f\"The std value for Category 1 changed in : {std1 - std1_dep:.3f}\\n\")\n",
    "\n",
    "\n",
    "print(f\"The mean value for Category 2 - education changed in : {p2 - p2_dep:.3f}\")\n",
    "print(f\"The std value for Category 1 changed in : {std2 - std2_dep:.3f}\")"
   ]
  },
  {
   "cell_type": "markdown",
   "id": "c3876aef",
   "metadata": {},
   "source": [
    "As shown the dependant data has a much higher standard deviation and lower mean for the category Society-culture.\n",
    "For education the change in these two parameters is almost irrelevant."
   ]
  },
  {
   "cell_type": "markdown",
   "id": "d087926b",
   "metadata": {},
   "source": [
    "<h3 style=\"color:#003F7D\">Chi-square test</h3>"
   ]
  },
  {
   "cell_type": "code",
   "execution_count": 52,
   "id": "adbc5d18",
   "metadata": {},
   "outputs": [
    {
     "data": {
      "text/html": [
       "<div>\n",
       "<style scoped>\n",
       "    .dataframe tbody tr th:only-of-type {\n",
       "        vertical-align: middle;\n",
       "    }\n",
       "\n",
       "    .dataframe tbody tr th {\n",
       "        vertical-align: top;\n",
       "    }\n",
       "\n",
       "    .dataframe thead th {\n",
       "        text-align: right;\n",
       "    }\n",
       "</style>\n",
       "<table border=\"1\" class=\"dataframe\">\n",
       "  <thead>\n",
       "    <tr style=\"text-align: right;\">\n",
       "      <th>col_0</th>\n",
       "      <th>count_df1</th>\n",
       "      <th>count_df2</th>\n",
       "    </tr>\n",
       "    <tr>\n",
       "      <th>rating</th>\n",
       "      <th></th>\n",
       "      <th></th>\n",
       "    </tr>\n",
       "  </thead>\n",
       "  <tbody>\n",
       "    <tr>\n",
       "      <th>1</th>\n",
       "      <td>30232</td>\n",
       "      <td>5882</td>\n",
       "    </tr>\n",
       "    <tr>\n",
       "      <th>2</th>\n",
       "      <td>12600</td>\n",
       "      <td>2281</td>\n",
       "    </tr>\n",
       "    <tr>\n",
       "      <th>3</th>\n",
       "      <td>13617</td>\n",
       "      <td>2930</td>\n",
       "    </tr>\n",
       "    <tr>\n",
       "      <th>4</th>\n",
       "      <td>14169</td>\n",
       "      <td>5001</td>\n",
       "    </tr>\n",
       "    <tr>\n",
       "      <th>5</th>\n",
       "      <td>371106</td>\n",
       "      <td>205644</td>\n",
       "    </tr>\n",
       "  </tbody>\n",
       "</table>\n",
       "</div>"
      ],
      "text/plain": [
       "col_0   count_df1  count_df2\n",
       "rating                      \n",
       "1           30232       5882\n",
       "2           12600       2281\n",
       "3           13617       2930\n",
       "4           14169       5001\n",
       "5          371106     205644"
      ]
     },
     "execution_count": 52,
     "metadata": {},
     "output_type": "execute_result"
    }
   ],
   "source": [
    "# Creation of the pivot table for use in the test\n",
    "cont_table_dep1 = pd.crosstab(index=df1_dep['rating'], columns='count').rename(columns={'count':'count_df1'})\n",
    "cont_table_dep2 = pd.crosstab(index=df2_dep['rating'], columns='count').rename(columns={'count':'count_df2'})\n",
    "contingency_table_dep = cont_table_dep1.join(cont_table_dep2)\n",
    "contingency_table_dep"
   ]
  },
  {
   "cell_type": "code",
   "execution_count": 53,
   "id": "b9aea7e5",
   "metadata": {},
   "outputs": [
    {
     "name": "stdout",
     "output_type": "stream",
     "text": [
      "Chi-square statistic: 10547.568429337849\n",
      "p-value: 0.0\n",
      "Degrees of freedom: 4\n",
      "Expected frequencies:\n",
      " [[ 24044.21132785  12069.78867215]\n",
      " [  9907.56794511   4973.43205489]\n",
      " [ 11016.76814648   5530.23185352]\n",
      " [ 12763.12596652   6406.87403348]\n",
      " [383992.32661403 192757.67338597]]\n"
     ]
    }
   ],
   "source": [
    "# Carring out the test\n",
    "chi2, p_value, dof, expected = chi2_contingency(contingency_table_dep)\n",
    "\n",
    "print(\"Chi-square statistic:\", chi2)\n",
    "print(\"p-value:\", p_value)\n",
    "print(\"Degrees of freedom:\", dof)\n",
    "print(\"Expected frequencies:\\n\", expected)"
   ]
  },
  {
   "cell_type": "markdown",
   "id": "6633cbce",
   "metadata": {},
   "source": [
    "$$p-value = 0.00    <   \\alpha = 0.05$$\n",
    "\n",
    "That means would theoretically mean that for the chosen confidence interval of 95% we would have enough evidence to reject the null hypothesis ($H_0$).\n",
    "\n",
    "**Such an extreme p-value however raises a flag on this extra analysis, highlighting that the proceedure taken initially might be more accurate.**"
   ]
  },
  {
   "cell_type": "markdown",
   "id": "d1f8cc5d",
   "metadata": {},
   "source": [
    "<h1 style=\"color:#003F7D\">Conclusions </h1>"
   ]
  },
  {
   "cell_type": "markdown",
   "id": "8cbc1e37",
   "metadata": {},
   "source": [
    "As demonstrated in the analysis, the average ratings of podcasts in the 'society-culture' and 'education' categories are statistically different. \n",
    "\n",
    "Additionally, the analysis revealed the following:\n",
    "- Reviews conducted by bots account for less than 1% of the total reviews.\n",
    "- No category had its average rating altered by more than 0.01 as a result of the bot reviews.\n",
    "\n",
    "The presence of bot reviews in the dataset is minimal and has negligible impact on the average ratings of the categories.\n"
   ]
  }
 ],
 "metadata": {
  "kernelspec": {
   "display_name": "Python 3 (ipykernel)",
   "language": "python",
   "name": "python3"
  },
  "language_info": {
   "codemirror_mode": {
    "name": "ipython",
    "version": 3
   },
   "file_extension": ".py",
   "mimetype": "text/x-python",
   "name": "python",
   "nbconvert_exporter": "python",
   "pygments_lexer": "ipython3",
   "version": "3.9.13"
  },
  "toc": {
   "base_numbering": 1,
   "nav_menu": {},
   "number_sections": true,
   "sideBar": true,
   "skip_h1_title": false,
   "title_cell": "Table of Contents",
   "title_sidebar": "Contents",
   "toc_cell": false,
   "toc_position": {
    "height": "814.931px",
    "left": "20.9848px",
    "top": "111.08px",
    "width": "388.026px"
   },
   "toc_section_display": true,
   "toc_window_display": false
  }
 },
 "nbformat": 4,
 "nbformat_minor": 5
}
